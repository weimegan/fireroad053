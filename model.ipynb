{
 "cells": [
  {
   "cell_type": "markdown",
   "id": "quarterly-kinase",
   "metadata": {},
   "source": [
    "# FireRoad053 Model"
   ]
  },
  {
   "cell_type": "code",
   "execution_count": 20,
   "id": "exempt-pressing",
   "metadata": {
    "scrolled": false
   },
   "outputs": [
    {
     "data": {
      "text/html": [
       "<table class=\"data-frame\"><thead><tr><th></th><th>Column1</th><th>id</th><th>total-units</th><th>prereqs</th><th>semester</th></tr><tr><th></th><th>String</th><th>String</th><th>Int64</th><th>String?</th><th>String</th></tr></thead><tbody><p>50 rows × 8 columns (omitted printing of 3 columns)</p><tr><th>1</th><td>14.01</td><td>14.01</td><td>12</td><td><em>missing</em></td><td>['Fall', 'Spring']</td></tr><tr><th>2</th><td>15.0251</td><td>15.0251</td><td>9</td><td>14.01</td><td>['Spring']</td></tr><tr><th>3</th><td>15.053</td><td>15.053</td><td>12</td><td>6.0001 or permission of instructor</td><td>['Spring']</td></tr><tr><th>4</th><td>15.068</td><td>15.068</td><td>9</td><td><em>missing</em></td><td>['Spring']</td></tr><tr><th>5</th><td>15.276</td><td>15.276</td><td>12</td><td><em>missing</em></td><td>['Fall', 'Spring']</td></tr><tr><th>6</th><td>15.501</td><td>15.501</td><td>12</td><td><em>missing</em></td><td>['Fall', 'Spring']</td></tr><tr><th>7</th><td>15.8141</td><td>15.8141</td><td>9</td><td><em>missing</em></td><td>['Spring']</td></tr><tr><th>8</th><td>18.01</td><td>18.01</td><td>12</td><td><em>missing</em></td><td>['Fall', 'Spring']</td></tr><tr><th>9</th><td>18.02</td><td>18.02</td><td>12</td><td>GIR:CAL1</td><td>['Fall', 'Spring']</td></tr><tr><th>10</th><td>18.06</td><td>18.06</td><td>12</td><td>GIR:CAL2</td><td>['Fall', 'Spring']</td></tr><tr><th>11</th><td>18.600</td><td>18.600</td><td>12</td><td>GIR:CAL2</td><td>['Fall', 'Spring']</td></tr><tr><th>12</th><td>18.650</td><td>18.650</td><td>12</td><td>6.041 or 18.600</td><td>['Fall', 'Spring']</td></tr><tr><th>13</th><td>21A.500</td><td>21A.500</td><td>9</td><td><em>missing</em></td><td>['Fall', 'Spring']</td></tr><tr><th>14</th><td>21G.701</td><td>21G.701</td><td>12</td><td><em>missing</em></td><td>['Fall', 'IAP', 'Spring']</td></tr><tr><th>15</th><td>21H.134</td><td>21H.134</td><td>12</td><td><em>missing</em></td><td>['Spring']</td></tr><tr><th>16</th><td>21H.343</td><td>21H.343</td><td>12</td><td><em>missing</em></td><td>['Fall', 'Spring']</td></tr><tr><th>17</th><td>21L.019</td><td>21L.019</td><td>12</td><td><em>missing</em></td><td>['Fall', 'Spring']</td></tr><tr><th>18</th><td>21M.273</td><td>21M.273</td><td>12</td><td><em>missing</em></td><td>['Spring']</td></tr><tr><th>19</th><td>24.013</td><td>24.013</td><td>12</td><td><em>missing</em></td><td>['Spring']</td></tr><tr><th>20</th><td>3.091</td><td>3.091</td><td>12</td><td><em>missing</em></td><td>['Fall', 'Spring']</td></tr><tr><th>21</th><td>5.111</td><td>5.111</td><td>12</td><td><em>missing</em></td><td>['Fall', 'Spring']</td></tr><tr><th>22</th><td>5.12</td><td>5.12</td><td>12</td><td>GIR:CHEM</td><td>['Fall', 'Spring']</td></tr><tr><th>23</th><td>5.310</td><td>5.310</td><td>12</td><td>5.12</td><td>['Fall', 'Spring']</td></tr><tr><th>24</th><td>5.601</td><td>5.601</td><td>6</td><td>GIR:CAL2 and GIR:CHEM</td><td>['Fall', 'Spring']</td></tr><tr><th>25</th><td>5.602</td><td>5.602</td><td>6</td><td>5.601</td><td>['Fall', 'Spring']</td></tr><tr><th>26</th><td>6.0001</td><td>6.0001</td><td>6</td><td><em>missing</em></td><td>['Fall', 'Spring']</td></tr><tr><th>27</th><td>6.0002</td><td>6.0002</td><td>6</td><td>6.0001 or permission of instructor</td><td>['Fall', 'Spring']</td></tr><tr><th>28</th><td>6.003</td><td>6.003</td><td>12</td><td>GIR:CAL1 and 6.0001</td><td>['Fall', 'Spring']</td></tr><tr><th>29</th><td>6.004</td><td>6.004</td><td>12</td><td>GIR:PHY2 and 6.0001</td><td>['Fall', 'Spring']</td></tr><tr><th>30</th><td>6.006</td><td>6.006</td><td>12</td><td>6.042 and (6.0001 or 6.009)</td><td>['Fall', 'Spring']</td></tr><tr><th>&vellip;</th><td>&vellip;</td><td>&vellip;</td><td>&vellip;</td><td>&vellip;</td><td>&vellip;</td></tr></tbody></table>"
      ],
      "text/latex": [
       "\\begin{tabular}{r|cccccc}\n",
       "\t& Column1 & id & total-units & prereqs & semester & \\\\\n",
       "\t\\hline\n",
       "\t& String & String & Int64 & String? & String & \\\\\n",
       "\t\\hline\n",
       "\t1 & 14.01 & 14.01 & 12 & \\emph{missing} & ['Fall', 'Spring'] & $\\dots$ \\\\\n",
       "\t2 & 15.0251 & 15.0251 & 9 & 14.01 & ['Spring'] & $\\dots$ \\\\\n",
       "\t3 & 15.053 & 15.053 & 12 & 6.0001 or permission of instructor & ['Spring'] & $\\dots$ \\\\\n",
       "\t4 & 15.068 & 15.068 & 9 & \\emph{missing} & ['Spring'] & $\\dots$ \\\\\n",
       "\t5 & 15.276 & 15.276 & 12 & \\emph{missing} & ['Fall', 'Spring'] & $\\dots$ \\\\\n",
       "\t6 & 15.501 & 15.501 & 12 & \\emph{missing} & ['Fall', 'Spring'] & $\\dots$ \\\\\n",
       "\t7 & 15.8141 & 15.8141 & 9 & \\emph{missing} & ['Spring'] & $\\dots$ \\\\\n",
       "\t8 & 18.01 & 18.01 & 12 & \\emph{missing} & ['Fall', 'Spring'] & $\\dots$ \\\\\n",
       "\t9 & 18.02 & 18.02 & 12 & GIR:CAL1 & ['Fall', 'Spring'] & $\\dots$ \\\\\n",
       "\t10 & 18.06 & 18.06 & 12 & GIR:CAL2 & ['Fall', 'Spring'] & $\\dots$ \\\\\n",
       "\t11 & 18.600 & 18.600 & 12 & GIR:CAL2 & ['Fall', 'Spring'] & $\\dots$ \\\\\n",
       "\t12 & 18.650 & 18.650 & 12 & 6.041 or 18.600 & ['Fall', 'Spring'] & $\\dots$ \\\\\n",
       "\t13 & 21A.500 & 21A.500 & 9 & \\emph{missing} & ['Fall', 'Spring'] & $\\dots$ \\\\\n",
       "\t14 & 21G.701 & 21G.701 & 12 & \\emph{missing} & ['Fall', 'IAP', 'Spring'] & $\\dots$ \\\\\n",
       "\t15 & 21H.134 & 21H.134 & 12 & \\emph{missing} & ['Spring'] & $\\dots$ \\\\\n",
       "\t16 & 21H.343 & 21H.343 & 12 & \\emph{missing} & ['Fall', 'Spring'] & $\\dots$ \\\\\n",
       "\t17 & 21L.019 & 21L.019 & 12 & \\emph{missing} & ['Fall', 'Spring'] & $\\dots$ \\\\\n",
       "\t18 & 21M.273 & 21M.273 & 12 & \\emph{missing} & ['Spring'] & $\\dots$ \\\\\n",
       "\t19 & 24.013 & 24.013 & 12 & \\emph{missing} & ['Spring'] & $\\dots$ \\\\\n",
       "\t20 & 3.091 & 3.091 & 12 & \\emph{missing} & ['Fall', 'Spring'] & $\\dots$ \\\\\n",
       "\t21 & 5.111 & 5.111 & 12 & \\emph{missing} & ['Fall', 'Spring'] & $\\dots$ \\\\\n",
       "\t22 & 5.12 & 5.12 & 12 & GIR:CHEM & ['Fall', 'Spring'] & $\\dots$ \\\\\n",
       "\t23 & 5.310 & 5.310 & 12 & 5.12 & ['Fall', 'Spring'] & $\\dots$ \\\\\n",
       "\t24 & 5.601 & 5.601 & 6 & GIR:CAL2 and GIR:CHEM & ['Fall', 'Spring'] & $\\dots$ \\\\\n",
       "\t25 & 5.602 & 5.602 & 6 & 5.601 & ['Fall', 'Spring'] & $\\dots$ \\\\\n",
       "\t26 & 6.0001 & 6.0001 & 6 & \\emph{missing} & ['Fall', 'Spring'] & $\\dots$ \\\\\n",
       "\t27 & 6.0002 & 6.0002 & 6 & 6.0001 or permission of instructor & ['Fall', 'Spring'] & $\\dots$ \\\\\n",
       "\t28 & 6.003 & 6.003 & 12 & GIR:CAL1 and 6.0001 & ['Fall', 'Spring'] & $\\dots$ \\\\\n",
       "\t29 & 6.004 & 6.004 & 12 & GIR:PHY2 and 6.0001 & ['Fall', 'Spring'] & $\\dots$ \\\\\n",
       "\t30 & 6.006 & 6.006 & 12 & 6.042 and (6.0001 or 6.009) & ['Fall', 'Spring'] & $\\dots$ \\\\\n",
       "\t$\\dots$ & $\\dots$ & $\\dots$ & $\\dots$ & $\\dots$ & $\\dots$ &  \\\\\n",
       "\\end{tabular}\n"
      ],
      "text/plain": [
       "\u001b[1m50×8 DataFrame\u001b[0m\n",
       "\u001b[1m Row \u001b[0m│\u001b[1m Column1 \u001b[0m\u001b[1m id      \u001b[0m\u001b[1m total-units \u001b[0m\u001b[1m prereqs                           \u001b[0m\u001b[1m semes\u001b[0m ⋯\n",
       "\u001b[1m     \u001b[0m│\u001b[90m String  \u001b[0m\u001b[90m String  \u001b[0m\u001b[90m Int64       \u001b[0m\u001b[90m String?                           \u001b[0m\u001b[90m Strin\u001b[0m ⋯\n",
       "─────┼──────────────────────────────────────────────────────────────────────────\n",
       "   1 │ 14.01    14.01             12 \u001b[90m missing                           \u001b[0m ['Fal ⋯\n",
       "   2 │ 15.0251  15.0251            9  14.01                              ['Spr\n",
       "   3 │ 15.053   15.053            12  6.0001 or permission of instruct…  ['Spr\n",
       "   4 │ 15.068   15.068             9 \u001b[90m missing                           \u001b[0m ['Spr\n",
       "   5 │ 15.276   15.276            12 \u001b[90m missing                           \u001b[0m ['Fal ⋯\n",
       "   6 │ 15.501   15.501            12 \u001b[90m missing                           \u001b[0m ['Fal\n",
       "   7 │ 15.8141  15.8141            9 \u001b[90m missing                           \u001b[0m ['Spr\n",
       "   8 │ 18.01    18.01             12 \u001b[90m missing                           \u001b[0m ['Fal\n",
       "   9 │ 18.02    18.02             12  GIR:CAL1                           ['Fal ⋯\n",
       "  10 │ 18.06    18.06             12  GIR:CAL2                           ['Fal\n",
       "  11 │ 18.600   18.600            12  GIR:CAL2                           ['Fal\n",
       "  ⋮  │    ⋮        ⋮          ⋮                       ⋮                        ⋱\n",
       "  41 │ 6.UAT    6.UAT              9 \u001b[90m missing                           \u001b[0m ['Fal\n",
       "  42 │ 7.014    7.014             12 \u001b[90m missing                           \u001b[0m ['Spr ⋯\n",
       "  43 │ 7.016    7.016             12 \u001b[90m missing                           \u001b[0m ['Spr\n",
       "  44 │ 8.02     8.02              12  GIR:CAL1 and GIR:PHY1              ['Fal\n",
       "  45 │ 9.00     9.00              12 \u001b[90m missing                           \u001b[0m ['Spr\n",
       "  46 │ 5.13     5.13              12  5.12                               ['Fal ⋯\n",
       "  47 │ 5.07     5.07              12  5.12                               ['Fal\n",
       "  48 │ 15.312   15.312            12 \u001b[90m missing                           \u001b[0m ['Fal\n",
       "  49 │ 8.01     8.01              12 \u001b[90m missing                           \u001b[0m ['Fal\n",
       "  50 │ 15.780   15.780            12 \u001b[90m missing                           \u001b[0m ['Fal ⋯\n",
       "\u001b[36m                                                   4 columns and 29 rows omitted\u001b[0m"
      ]
     },
     "execution_count": 20,
     "metadata": {},
     "output_type": "execute_result"
    }
   ],
   "source": [
    "## if you have not installed package \"CSV\" or \"JSON\", please uncomment the line below and execute it\n",
    "# using Pkg; Pkg.add(\"CSV\")\n",
    "\n",
    "using DataFrames, CSV\n",
    "utility = CSV.read(\"data/utility_norm.csv\", DataFrame)\n",
    "classes = CSV.read(\"finaldata/parsedsp21_actual_classes.csv\", DataFrame)"
   ]
  },
  {
   "cell_type": "markdown",
   "id": "express-coordinate",
   "metadata": {},
   "source": [
    "# Model"
   ]
  },
  {
   "cell_type": "code",
   "execution_count": 21,
   "id": "heard-somalia",
   "metadata": {},
   "outputs": [
    {
     "name": "stdout",
     "output_type": "stream",
     "text": [
      "Academic license - for non-commercial use only - expires 2021-07-07\n"
     ]
    },
    {
     "data": {
      "text/plain": [
       "50×8 Array{VariableRef,2}:\n",
       " x[1,1]   x[1,2]   x[1,3]   x[1,4]   x[1,5]   x[1,6]   x[1,7]   x[1,8]\n",
       " x[2,1]   x[2,2]   x[2,3]   x[2,4]   x[2,5]   x[2,6]   x[2,7]   x[2,8]\n",
       " x[3,1]   x[3,2]   x[3,3]   x[3,4]   x[3,5]   x[3,6]   x[3,7]   x[3,8]\n",
       " x[4,1]   x[4,2]   x[4,3]   x[4,4]   x[4,5]   x[4,6]   x[4,7]   x[4,8]\n",
       " x[5,1]   x[5,2]   x[5,3]   x[5,4]   x[5,5]   x[5,6]   x[5,7]   x[5,8]\n",
       " x[6,1]   x[6,2]   x[6,3]   x[6,4]   x[6,5]   x[6,6]   x[6,7]   x[6,8]\n",
       " x[7,1]   x[7,2]   x[7,3]   x[7,4]   x[7,5]   x[7,6]   x[7,7]   x[7,8]\n",
       " x[8,1]   x[8,2]   x[8,3]   x[8,4]   x[8,5]   x[8,6]   x[8,7]   x[8,8]\n",
       " x[9,1]   x[9,2]   x[9,3]   x[9,4]   x[9,5]   x[9,6]   x[9,7]   x[9,8]\n",
       " x[10,1]  x[10,2]  x[10,3]  x[10,4]  x[10,5]  x[10,6]  x[10,7]  x[10,8]\n",
       " x[11,1]  x[11,2]  x[11,3]  x[11,4]  x[11,5]  x[11,6]  x[11,7]  x[11,8]\n",
       " x[12,1]  x[12,2]  x[12,3]  x[12,4]  x[12,5]  x[12,6]  x[12,7]  x[12,8]\n",
       " x[13,1]  x[13,2]  x[13,3]  x[13,4]  x[13,5]  x[13,6]  x[13,7]  x[13,8]\n",
       " ⋮                                            ⋮                 \n",
       " x[39,1]  x[39,2]  x[39,3]  x[39,4]  x[39,5]  x[39,6]  x[39,7]  x[39,8]\n",
       " x[40,1]  x[40,2]  x[40,3]  x[40,4]  x[40,5]  x[40,6]  x[40,7]  x[40,8]\n",
       " x[41,1]  x[41,2]  x[41,3]  x[41,4]  x[41,5]  x[41,6]  x[41,7]  x[41,8]\n",
       " x[42,1]  x[42,2]  x[42,3]  x[42,4]  x[42,5]  x[42,6]  x[42,7]  x[42,8]\n",
       " x[43,1]  x[43,2]  x[43,3]  x[43,4]  x[43,5]  x[43,6]  x[43,7]  x[43,8]\n",
       " x[44,1]  x[44,2]  x[44,3]  x[44,4]  x[44,5]  x[44,6]  x[44,7]  x[44,8]\n",
       " x[45,1]  x[45,2]  x[45,3]  x[45,4]  x[45,5]  x[45,6]  x[45,7]  x[45,8]\n",
       " x[46,1]  x[46,2]  x[46,3]  x[46,4]  x[46,5]  x[46,6]  x[46,7]  x[46,8]\n",
       " x[47,1]  x[47,2]  x[47,3]  x[47,4]  x[47,5]  x[47,6]  x[47,7]  x[47,8]\n",
       " x[48,1]  x[48,2]  x[48,3]  x[48,4]  x[48,5]  x[48,6]  x[48,7]  x[48,8]\n",
       " x[49,1]  x[49,2]  x[49,3]  x[49,4]  x[49,5]  x[49,6]  x[49,7]  x[49,8]\n",
       " x[50,1]  x[50,2]  x[50,3]  x[50,4]  x[50,5]  x[50,6]  x[50,7]  x[50,8]"
      ]
     },
     "execution_count": 21,
     "metadata": {},
     "output_type": "execute_result"
    }
   ],
   "source": [
    "#--- Model specification\n",
    "using JuMP, DataFrames, Gurobi\n",
    "M = 1000000\n",
    "S = nrow(classes)\n",
    "T = 8\n",
    "min_units = 12\n",
    "max_units = 60\n",
    "#min_workload = \n",
    "#max_workload = \n",
    "\n",
    "model = Model(with_optimizer(Gurobi.Optimizer))\n",
    "\n",
    "@variable(model, x[1:S, 1:T], Bin)\n",
    "\n",
    "#@objective(model, Max, sum(utility[i, :] * sum(x[i,j] for j = 1:T) for i = 1:S))"
   ]
  },
  {
   "cell_type": "markdown",
   "id": "mineral-childhood",
   "metadata": {},
   "source": [
    "# Constraints"
   ]
  },
  {
   "cell_type": "code",
   "execution_count": 15,
   "id": "exclusive-condition",
   "metadata": {},
   "outputs": [
    {
     "data": {
      "text/plain": [
       "8-element Array{ConstraintRef{Model,C,Shape} where Shape<:AbstractShape where C,1}:\n",
       " maxunits[1] : 12 x[1,1] + 12 x[2,1] + 12 x[3,1] + 12 x[4,1] + 6 x[5,1] + 6 x[6,1] + 6 x[7,1] + 6 x[8,1] + 12 x[9,1] + 12 x[10,1] + 12 x[11,1] + 12 x[12,1] + 12 x[13,1] + 15 x[14,1] + 12 x[15,1] + 12 x[16,1] + 12 x[17,1] + 12 x[18,1] + 12 x[19,1] + 12 x[20,1] + 12 x[21,1] + 9 x[22,1] + 12 x[23,1] + 12 x[24,1] + 12 x[25,1] + 12 x[26,1] + 12 x[27,1] + 9 x[28,1] + 12 x[29,1] + 12 x[30,1] + 12 x[31,1] + 9 x[32,1] + 12 x[33,1] + 12 x[34,1] + 12 x[35,1] + 12 x[36,1] + 12 x[37,1] + 9 x[38,1] + 12 x[39,1] + 12 x[40,1] + 12 x[41,1] + 12 x[42,1] + 12 x[43,1] + 12 x[44,1] ≤ 60.0\n",
       " maxunits[2] : 12 x[1,2] + 12 x[2,2] + 12 x[3,2] + 12 x[4,2] + 6 x[5,2] + 6 x[6,2] + 6 x[7,2] + 6 x[8,2] + 12 x[9,2] + 12 x[10,2] + 12 x[11,2] + 12 x[12,2] + 12 x[13,2] + 15 x[14,2] + 12 x[15,2] + 12 x[16,2] + 12 x[17,2] + 12 x[18,2] + 12 x[19,2] + 12 x[20,2] + 12 x[21,2] + 9 x[22,2] + 12 x[23,2] + 12 x[24,2] + 12 x[25,2] + 12 x[26,2] + 12 x[27,2] + 9 x[28,2] + 12 x[29,2] + 12 x[30,2] + 12 x[31,2] + 9 x[32,2] + 12 x[33,2] + 12 x[34,2] + 12 x[35,2] + 12 x[36,2] + 12 x[37,2] + 9 x[38,2] + 12 x[39,2] + 12 x[40,2] + 12 x[41,2] + 12 x[42,2] + 12 x[43,2] + 12 x[44,2] ≤ 60.0\n",
       " maxunits[3] : 12 x[1,3] + 12 x[2,3] + 12 x[3,3] + 12 x[4,3] + 6 x[5,3] + 6 x[6,3] + 6 x[7,3] + 6 x[8,3] + 12 x[9,3] + 12 x[10,3] + 12 x[11,3] + 12 x[12,3] + 12 x[13,3] + 15 x[14,3] + 12 x[15,3] + 12 x[16,3] + 12 x[17,3] + 12 x[18,3] + 12 x[19,3] + 12 x[20,3] + 12 x[21,3] + 9 x[22,3] + 12 x[23,3] + 12 x[24,3] + 12 x[25,3] + 12 x[26,3] + 12 x[27,3] + 9 x[28,3] + 12 x[29,3] + 12 x[30,3] + 12 x[31,3] + 9 x[32,3] + 12 x[33,3] + 12 x[34,3] + 12 x[35,3] + 12 x[36,3] + 12 x[37,3] + 9 x[38,3] + 12 x[39,3] + 12 x[40,3] + 12 x[41,3] + 12 x[42,3] + 12 x[43,3] + 12 x[44,3] ≤ 60.0\n",
       " maxunits[4] : 12 x[1,4] + 12 x[2,4] + 12 x[3,4] + 12 x[4,4] + 6 x[5,4] + 6 x[6,4] + 6 x[7,4] + 6 x[8,4] + 12 x[9,4] + 12 x[10,4] + 12 x[11,4] + 12 x[12,4] + 12 x[13,4] + 15 x[14,4] + 12 x[15,4] + 12 x[16,4] + 12 x[17,4] + 12 x[18,4] + 12 x[19,4] + 12 x[20,4] + 12 x[21,4] + 9 x[22,4] + 12 x[23,4] + 12 x[24,4] + 12 x[25,4] + 12 x[26,4] + 12 x[27,4] + 9 x[28,4] + 12 x[29,4] + 12 x[30,4] + 12 x[31,4] + 9 x[32,4] + 12 x[33,4] + 12 x[34,4] + 12 x[35,4] + 12 x[36,4] + 12 x[37,4] + 9 x[38,4] + 12 x[39,4] + 12 x[40,4] + 12 x[41,4] + 12 x[42,4] + 12 x[43,4] + 12 x[44,4] ≤ 60.0\n",
       " maxunits[5] : 12 x[1,5] + 12 x[2,5] + 12 x[3,5] + 12 x[4,5] + 6 x[5,5] + 6 x[6,5] + 6 x[7,5] + 6 x[8,5] + 12 x[9,5] + 12 x[10,5] + 12 x[11,5] + 12 x[12,5] + 12 x[13,5] + 15 x[14,5] + 12 x[15,5] + 12 x[16,5] + 12 x[17,5] + 12 x[18,5] + 12 x[19,5] + 12 x[20,5] + 12 x[21,5] + 9 x[22,5] + 12 x[23,5] + 12 x[24,5] + 12 x[25,5] + 12 x[26,5] + 12 x[27,5] + 9 x[28,5] + 12 x[29,5] + 12 x[30,5] + 12 x[31,5] + 9 x[32,5] + 12 x[33,5] + 12 x[34,5] + 12 x[35,5] + 12 x[36,5] + 12 x[37,5] + 9 x[38,5] + 12 x[39,5] + 12 x[40,5] + 12 x[41,5] + 12 x[42,5] + 12 x[43,5] + 12 x[44,5] ≤ 60.0\n",
       " maxunits[6] : 12 x[1,6] + 12 x[2,6] + 12 x[3,6] + 12 x[4,6] + 6 x[5,6] + 6 x[6,6] + 6 x[7,6] + 6 x[8,6] + 12 x[9,6] + 12 x[10,6] + 12 x[11,6] + 12 x[12,6] + 12 x[13,6] + 15 x[14,6] + 12 x[15,6] + 12 x[16,6] + 12 x[17,6] + 12 x[18,6] + 12 x[19,6] + 12 x[20,6] + 12 x[21,6] + 9 x[22,6] + 12 x[23,6] + 12 x[24,6] + 12 x[25,6] + 12 x[26,6] + 12 x[27,6] + 9 x[28,6] + 12 x[29,6] + 12 x[30,6] + 12 x[31,6] + 9 x[32,6] + 12 x[33,6] + 12 x[34,6] + 12 x[35,6] + 12 x[36,6] + 12 x[37,6] + 9 x[38,6] + 12 x[39,6] + 12 x[40,6] + 12 x[41,6] + 12 x[42,6] + 12 x[43,6] + 12 x[44,6] ≤ 60.0\n",
       " maxunits[7] : 12 x[1,7] + 12 x[2,7] + 12 x[3,7] + 12 x[4,7] + 6 x[5,7] + 6 x[6,7] + 6 x[7,7] + 6 x[8,7] + 12 x[9,7] + 12 x[10,7] + 12 x[11,7] + 12 x[12,7] + 12 x[13,7] + 15 x[14,7] + 12 x[15,7] + 12 x[16,7] + 12 x[17,7] + 12 x[18,7] + 12 x[19,7] + 12 x[20,7] + 12 x[21,7] + 9 x[22,7] + 12 x[23,7] + 12 x[24,7] + 12 x[25,7] + 12 x[26,7] + 12 x[27,7] + 9 x[28,7] + 12 x[29,7] + 12 x[30,7] + 12 x[31,7] + 9 x[32,7] + 12 x[33,7] + 12 x[34,7] + 12 x[35,7] + 12 x[36,7] + 12 x[37,7] + 9 x[38,7] + 12 x[39,7] + 12 x[40,7] + 12 x[41,7] + 12 x[42,7] + 12 x[43,7] + 12 x[44,7] ≤ 60.0\n",
       " maxunits[8] : 12 x[1,8] + 12 x[2,8] + 12 x[3,8] + 12 x[4,8] + 6 x[5,8] + 6 x[6,8] + 6 x[7,8] + 6 x[8,8] + 12 x[9,8] + 12 x[10,8] + 12 x[11,8] + 12 x[12,8] + 12 x[13,8] + 15 x[14,8] + 12 x[15,8] + 12 x[16,8] + 12 x[17,8] + 12 x[18,8] + 12 x[19,8] + 12 x[20,8] + 12 x[21,8] + 9 x[22,8] + 12 x[23,8] + 12 x[24,8] + 12 x[25,8] + 12 x[26,8] + 12 x[27,8] + 9 x[28,8] + 12 x[29,8] + 12 x[30,8] + 12 x[31,8] + 9 x[32,8] + 12 x[33,8] + 12 x[34,8] + 12 x[35,8] + 12 x[36,8] + 12 x[37,8] + 9 x[38,8] + 12 x[39,8] + 12 x[40,8] + 12 x[41,8] + 12 x[42,8] + 12 x[43,8] + 12 x[44,8] ≤ 60.0"
      ]
     },
     "execution_count": 15,
     "metadata": {},
     "output_type": "execute_result"
    }
   ],
   "source": [
    "# 1. Each student takes (or gets credit for) all of the Science/Math GIRs.\n",
    "# Math GIR\n",
    "@constraint(model, math, sum(x[, t] for t = 1:T) == 1)\n",
    "\n",
    "# Physics GIR\n",
    "@constraint(model, physics, sum(x[, t] for t = 1:T) == 1)\n",
    "\n",
    "# Chemistry GIR\n",
    "@constraint(model, chem, sum(x[1, t] + x[2, t] for t = 1:T) == 1)\n",
    "\n",
    "# Biology GIR\n",
    "@constraint(model, bio, sum(x[23, t] + x[24, t] for t = 1:T) == 1)\n",
    "\n",
    "# 2. Each student takes 8 HASS subjects.\n",
    "@constraint(model, hass, sum( for t = 1:T) >= 8)\n",
    "\n",
    "# 3. Each student satisfies the requirements of her major (and minor).\n",
    "\n",
    "\n",
    "# 4. No subject is taken prior to its prerequisites.\n",
    "\n",
    "\n",
    "# 5. Each student takes 216 units beyond GIRs.\n",
    "@constraint(model, units, sum(x[s, t] * classes[s, 3] for s = 1:S for t = 1:T) >= 210)\n",
    "\n",
    "# 6. No two subjects taken in Spring 2021 should overlap in time.\n",
    "\n",
    "    \n",
    "# 7. Students cannot take the same subject twice.\n",
    "@constraint(model, once, sum(x[s, t] for s = 1:S for t = 1:T) <= 1)\n",
    "\n",
    "# 8. Each student can specify if they want to take a specific subject in the future.\n",
    "@constraint(model, req[s in 1:S], sum(x[s, t] for t in 1:T) >= 1 - M * (1 - REQ CSV[s]))\n",
    "\n",
    "# 9. Each student can specify which semester they want to take a subject.\n",
    "@constraint(model, reqsem[s in 1:S, t in 1:T], x[s, t] >= 1 - M * (1 - REQSEM CSV[s, t]))\n",
    "\n",
    "# 10. Each student can specify which semester they do not want to take a subject. \n",
    "@constraint(model, reqnot[s in 1:S, t in 1:T], x[s, t] <= 1 + M * (1 - REQNOT CSV[s, t]))\n",
    "    \n",
    "# 11. The minimum and maximum number of units that each student wants to take each semester.\n",
    "@constraint(model, minunits[t in 1:T], sum(x[s, t] * classes[s, 3] for s in 1:S) >= min_units)\n",
    "@constraint(model, maxunits[t in 1:T], sum(x[s, t] * classes[s, 3] for s in 1:S) <= max_units)\n",
    "    \n",
    "# 12. The minimum and maximum workload (in number of hours) that each student wants to take on each semester.\n",
    "@constraint(model, minwork[t in 1:T], sum(x[s, t] * classes[s, WORKLOAD COL] for s in 1:S) >= min_workload)\n",
    "@constraint(model, maxwork[t in 1:T], sum(x[s, t] * classes[s, WORKLOAD COL] for s in 1:S) <= max_workload)"
   ]
  },
  {
   "cell_type": "code",
   "execution_count": null,
   "id": "rural-catering",
   "metadata": {},
   "outputs": [],
   "source": [
    "#--- Write codes here to print your solutions\n",
    "optimize!(model)\n",
    "@show termination_status(model)\n",
    "@show objective_value(model)"
   ]
  },
  {
   "cell_type": "code",
   "execution_count": null,
   "id": "proof-wings",
   "metadata": {},
   "outputs": [],
   "source": [
    "display(\"text/csv\", value.(x)) # could also display JSON"
   ]
  }
 ],
 "metadata": {
  "kernelspec": {
   "display_name": "Julia 1.5.3",
   "language": "julia",
   "name": "julia-1.5"
  },
  "language_info": {
   "file_extension": ".jl",
   "mimetype": "application/julia",
   "name": "julia",
   "version": "1.5.3"
  }
 },
 "nbformat": 4,
 "nbformat_minor": 5
}
