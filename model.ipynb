{
 "cells": [
  {
   "cell_type": "markdown",
   "id": "quarterly-kinase",
   "metadata": {},
   "source": [
    "# FireRoad053 Model"
   ]
  },
  {
   "cell_type": "code",
   "execution_count": 5,
   "id": "exempt-pressing",
   "metadata": {
    "scrolled": false
   },
   "outputs": [
    {
     "name": "stderr",
     "output_type": "stream",
     "text": [
      "┌ Warning: thread = 1 warning: only found 11 / 12 columns around data row: 7. Filling remaining columns with `missing`\n",
      "└ @ CSV /Users/laurenah/.julia/packages/CSV/YUbbG/src/file.jl:603\n"
     ]
    },
    {
     "data": {
      "text/html": [
       "<table class=\"data-frame\"><thead><tr><th></th><th>Column1</th><th>gir_attribute</th><th>hass_attribute</th><th>id</th><th>prereqs</th></tr><tr><th></th><th>String</th><th>String?</th><th>String?</th><th>String</th><th>String?</th></tr></thead><tbody><p>50 rows × 10 columns (omitted printing of 5 columns)</p><tr><th>1</th><td>8.01</td><td>PHY1</td><td><em>missing</em></td><td>8.01</td><td><em>missing</em></td></tr><tr><th>2</th><td>8.02</td><td>PHY2</td><td><em>missing</em></td><td>8.02</td><td>GIR:CAL1 and GIR:PHY1</td></tr><tr><th>3</th><td>18.01</td><td>CAL1</td><td><em>missing</em></td><td>18.01</td><td><em>missing</em></td></tr><tr><th>4</th><td>18.02</td><td>CAL2</td><td><em>missing</em></td><td>18.02</td><td>GIR:CAL1</td></tr><tr><th>5</th><td>7.014</td><td>BIOL</td><td><em>missing</em></td><td>7.014</td><td><em>missing</em></td></tr><tr><th>6</th><td>7.016</td><td>BIOL</td><td><em>missing</em></td><td>7.016</td><td><em>missing</em></td></tr><tr><th>7</th><td>3.091</td><td>CHEM</td><td><em>missing</em></td><td>3.091</td><td><em>missing</em></td></tr><tr><th>8</th><td>5.111</td><td>CHEM</td><td><em>missing</em></td><td>5.111</td><td><em>missing</em></td></tr><tr><th>9</th><td>5.07</td><td>REST</td><td><em>missing</em></td><td>5.07</td><td>5.12</td></tr><tr><th>10</th><td>5.12</td><td>REST</td><td><em>missing</em></td><td>5.12</td><td>GIR:CHEM</td></tr><tr><th>11</th><td>5.13</td><td><em>missing</em></td><td><em>missing</em></td><td>5.13</td><td>5.12</td></tr><tr><th>12</th><td>5.310</td><td>LAB</td><td><em>missing</em></td><td>5.310</td><td>5.12</td></tr><tr><th>13</th><td>5.601</td><td>RST2</td><td><em>missing</em></td><td>5.601</td><td>GIR:CAL2 and GIR:CHEM</td></tr><tr><th>14</th><td>5.602</td><td>RST2</td><td><em>missing</em></td><td>5.602</td><td>5.601</td></tr><tr><th>15</th><td>6.0001</td><td>RST2</td><td><em>missing</em></td><td>6.0001</td><td><em>missing</em></td></tr><tr><th>16</th><td>6.0002</td><td>RST2</td><td><em>missing</em></td><td>6.0002</td><td>6.0001 or permission of instructor</td></tr><tr><th>17</th><td>6.003</td><td>REST</td><td><em>missing</em></td><td>6.003</td><td>GIR:CAL1 and 6.0001</td></tr><tr><th>18</th><td>6.004</td><td>REST</td><td><em>missing</em></td><td>6.004</td><td>GIR:PHY2 and 6.0001</td></tr><tr><th>19</th><td>6.006</td><td><em>missing</em></td><td><em>missing</em></td><td>6.006</td><td>6.042 and (6.0001 or 6.009)</td></tr><tr><th>20</th><td>6.009</td><td>LAB</td><td><em>missing</em></td><td>6.009</td><td>6.0001</td></tr><tr><th>21</th><td>6.03</td><td>LAB</td><td><em>missing</em></td><td>6.03</td><td>GIR:CAL2 and GIR:PHY2</td></tr><tr><th>22</th><td>6.031</td><td><em>missing</em></td><td><em>missing</em></td><td>6.031</td><td>6.009</td></tr><tr><th>23</th><td>6.033</td><td><em>missing</em></td><td><em>missing</em></td><td>6.033</td><td>6.004 and 6.009</td></tr><tr><th>24</th><td>6.036</td><td><em>missing</em></td><td><em>missing</em></td><td>6.036</td><td>GIR:CAL2 and 6.0001</td></tr><tr><th>25</th><td>6.042</td><td>REST</td><td><em>missing</em></td><td>6.042</td><td>GIR:CAL1</td></tr><tr><th>26</th><td>6.046</td><td><em>missing</em></td><td><em>missing</em></td><td>6.046</td><td>6.006</td></tr><tr><th>27</th><td>6.08</td><td>LAB</td><td><em>missing</em></td><td>6.08</td><td>6.0001 and GIR:PHY2</td></tr><tr><th>28</th><td>6.806</td><td><em>missing</em></td><td><em>missing</em></td><td>6.806</td><td>6.046 or permission of instructor</td></tr><tr><th>29</th><td>6.819</td><td><em>missing</em></td><td><em>missing</em></td><td>6.819</td><td>18.06 and 6.042</td></tr><tr><th>30</th><td>6.UAT</td><td><em>missing</em></td><td><em>missing</em></td><td>6.UAT</td><td><em>missing</em></td></tr><tr><th>&vellip;</th><td>&vellip;</td><td>&vellip;</td><td>&vellip;</td><td>&vellip;</td><td>&vellip;</td></tr></tbody></table>"
      ],
      "text/latex": [
       "\\begin{tabular}{r|cccccc}\n",
       "\t& Column1 & gir\\_attribute & hass\\_attribute & id & prereqs & \\\\\n",
       "\t\\hline\n",
       "\t& String & String? & String? & String & String? & \\\\\n",
       "\t\\hline\n",
       "\t1 & 8.01 & PHY1 & \\emph{missing} & 8.01 & \\emph{missing} & $\\dots$ \\\\\n",
       "\t2 & 8.02 & PHY2 & \\emph{missing} & 8.02 & GIR:CAL1 and GIR:PHY1 & $\\dots$ \\\\\n",
       "\t3 & 18.01 & CAL1 & \\emph{missing} & 18.01 & \\emph{missing} & $\\dots$ \\\\\n",
       "\t4 & 18.02 & CAL2 & \\emph{missing} & 18.02 & GIR:CAL1 & $\\dots$ \\\\\n",
       "\t5 & 7.014 & BIOL & \\emph{missing} & 7.014 & \\emph{missing} & $\\dots$ \\\\\n",
       "\t6 & 7.016 & BIOL & \\emph{missing} & 7.016 & \\emph{missing} & $\\dots$ \\\\\n",
       "\t7 & 3.091 & CHEM & \\emph{missing} & 3.091 & \\emph{missing} & $\\dots$ \\\\\n",
       "\t8 & 5.111 & CHEM & \\emph{missing} & 5.111 & \\emph{missing} & $\\dots$ \\\\\n",
       "\t9 & 5.07 & REST & \\emph{missing} & 5.07 & 5.12 & $\\dots$ \\\\\n",
       "\t10 & 5.12 & REST & \\emph{missing} & 5.12 & GIR:CHEM & $\\dots$ \\\\\n",
       "\t11 & 5.13 & \\emph{missing} & \\emph{missing} & 5.13 & 5.12 & $\\dots$ \\\\\n",
       "\t12 & 5.310 & LAB & \\emph{missing} & 5.310 & 5.12 & $\\dots$ \\\\\n",
       "\t13 & 5.601 & RST2 & \\emph{missing} & 5.601 & GIR:CAL2 and GIR:CHEM & $\\dots$ \\\\\n",
       "\t14 & 5.602 & RST2 & \\emph{missing} & 5.602 & 5.601 & $\\dots$ \\\\\n",
       "\t15 & 6.0001 & RST2 & \\emph{missing} & 6.0001 & \\emph{missing} & $\\dots$ \\\\\n",
       "\t16 & 6.0002 & RST2 & \\emph{missing} & 6.0002 & 6.0001 or permission of instructor & $\\dots$ \\\\\n",
       "\t17 & 6.003 & REST & \\emph{missing} & 6.003 & GIR:CAL1 and 6.0001 & $\\dots$ \\\\\n",
       "\t18 & 6.004 & REST & \\emph{missing} & 6.004 & GIR:PHY2 and 6.0001 & $\\dots$ \\\\\n",
       "\t19 & 6.006 & \\emph{missing} & \\emph{missing} & 6.006 & 6.042 and (6.0001 or 6.009) & $\\dots$ \\\\\n",
       "\t20 & 6.009 & LAB & \\emph{missing} & 6.009 & 6.0001 & $\\dots$ \\\\\n",
       "\t21 & 6.03 & LAB & \\emph{missing} & 6.03 & GIR:CAL2 and GIR:PHY2 & $\\dots$ \\\\\n",
       "\t22 & 6.031 & \\emph{missing} & \\emph{missing} & 6.031 & 6.009 & $\\dots$ \\\\\n",
       "\t23 & 6.033 & \\emph{missing} & \\emph{missing} & 6.033 & 6.004 and 6.009 & $\\dots$ \\\\\n",
       "\t24 & 6.036 & \\emph{missing} & \\emph{missing} & 6.036 & GIR:CAL2 and 6.0001 & $\\dots$ \\\\\n",
       "\t25 & 6.042 & REST & \\emph{missing} & 6.042 & GIR:CAL1 & $\\dots$ \\\\\n",
       "\t26 & 6.046 & \\emph{missing} & \\emph{missing} & 6.046 & 6.006 & $\\dots$ \\\\\n",
       "\t27 & 6.08 & LAB & \\emph{missing} & 6.08 & 6.0001 and GIR:PHY2 & $\\dots$ \\\\\n",
       "\t28 & 6.806 & \\emph{missing} & \\emph{missing} & 6.806 & 6.046 or permission of instructor & $\\dots$ \\\\\n",
       "\t29 & 6.819 & \\emph{missing} & \\emph{missing} & 6.819 & 18.06 and 6.042 & $\\dots$ \\\\\n",
       "\t30 & 6.UAT & \\emph{missing} & \\emph{missing} & 6.UAT & \\emph{missing} & $\\dots$ \\\\\n",
       "\t$\\dots$ & $\\dots$ & $\\dots$ & $\\dots$ & $\\dots$ & $\\dots$ &  \\\\\n",
       "\\end{tabular}\n"
      ],
      "text/plain": [
       "\u001b[1m50×10 DataFrame\u001b[0m\n",
       "\u001b[1m Row \u001b[0m│\u001b[1m Column1 \u001b[0m\u001b[1m gir_attribute \u001b[0m\u001b[1m hass_attribute \u001b[0m\u001b[1m id      \u001b[0m\u001b[1m prereqs               \u001b[0m\u001b[1m\u001b[0m ⋯\n",
       "\u001b[1m     \u001b[0m│\u001b[90m String  \u001b[0m\u001b[90m String?       \u001b[0m\u001b[90m String?        \u001b[0m\u001b[90m String  \u001b[0m\u001b[90m String?               \u001b[0m\u001b[90m\u001b[0m ⋯\n",
       "─────┼──────────────────────────────────────────────────────────────────────────\n",
       "   1 │ 8.01     PHY1          \u001b[90m missing        \u001b[0m 8.01    \u001b[90m missing               \u001b[0m ⋯\n",
       "   2 │ 8.02     PHY2          \u001b[90m missing        \u001b[0m 8.02     GIR:CAL1 and GIR:PHY1\n",
       "   3 │ 18.01    CAL1          \u001b[90m missing        \u001b[0m 18.01   \u001b[90m missing               \u001b[0m\n",
       "   4 │ 18.02    CAL2          \u001b[90m missing        \u001b[0m 18.02    GIR:CAL1\n",
       "   5 │ 7.014    BIOL          \u001b[90m missing        \u001b[0m 7.014   \u001b[90m missing               \u001b[0m ⋯\n",
       "   6 │ 7.016    BIOL          \u001b[90m missing        \u001b[0m 7.016   \u001b[90m missing               \u001b[0m\n",
       "   7 │ 3.091    CHEM          \u001b[90m missing        \u001b[0m 3.091   \u001b[90m missing               \u001b[0m\n",
       "   8 │ 5.111    CHEM          \u001b[90m missing        \u001b[0m 5.111   \u001b[90m missing               \u001b[0m\n",
       "   9 │ 5.07     REST          \u001b[90m missing        \u001b[0m 5.07     5.12                   ⋯\n",
       "  10 │ 5.12     REST          \u001b[90m missing        \u001b[0m 5.12     GIR:CHEM\n",
       "  11 │ 5.13    \u001b[90m missing       \u001b[0m\u001b[90m missing        \u001b[0m 5.13     5.12\n",
       "  ⋮  │    ⋮           ⋮              ⋮            ⋮               ⋮            ⋱\n",
       "  41 │ 18.650  \u001b[90m missing       \u001b[0m\u001b[90m missing        \u001b[0m 18.650   6.041 or 18.600\n",
       "  42 │ 21H.134 \u001b[90m missing       \u001b[0m HS              21H.134 \u001b[90m missing               \u001b[0m ⋯\n",
       "  43 │ 21A.500 \u001b[90m missing       \u001b[0m HS              21A.500 \u001b[90m missing               \u001b[0m\n",
       "  44 │ 21L.019 \u001b[90m missing       \u001b[0m HH              21L.019 \u001b[90m missing               \u001b[0m\n",
       "  45 │ 21M.273 \u001b[90m missing       \u001b[0m HA              21M.273 \u001b[90m missing               \u001b[0m\n",
       "  46 │ 24.013  \u001b[90m missing       \u001b[0m HH              24.013  \u001b[90m missing               \u001b[0m ⋯\n",
       "  47 │ 21G.701 \u001b[90m missing       \u001b[0m HH              21G.701 \u001b[90m missing               \u001b[0m\n",
       "  48 │ 21H.343 \u001b[90m missing       \u001b[0m HA              21H.343 \u001b[90m missing               \u001b[0m\n",
       "  49 │ 9.00    \u001b[90m missing       \u001b[0m HS              9.00    \u001b[90m missing               \u001b[0m\n",
       "  50 │ 14.01   \u001b[90m missing       \u001b[0m HS              14.01   \u001b[90m missing               \u001b[0m ⋯\n",
       "\u001b[36m                                                   5 columns and 29 rows omitted\u001b[0m"
      ]
     },
     "execution_count": 5,
     "metadata": {},
     "output_type": "execute_result"
    }
   ],
   "source": [
    "## if you have not installed package \"CSV\" or \"JSON\", please uncomment the line below and execute it\n",
    "# using Pkg; Pkg.add(\"CSV\")\n",
    "\n",
    "using DataFrames, CSV\n",
    "students = CSV.read(\"finaldata/students_data.csv\", DataFrame)\n",
    "classes = CSV.read(\"finaldata/parsedsp21_actual_classes.csv\", DataFrame)"
   ]
  },
  {
   "cell_type": "markdown",
   "id": "express-coordinate",
   "metadata": {},
   "source": [
    "# Model"
   ]
  },
  {
   "cell_type": "code",
   "execution_count": 29,
   "id": "heard-somalia",
   "metadata": {},
   "outputs": [
    {
     "name": "stdout",
     "output_type": "stream",
     "text": [
      "Academic license - for non-commercial use only - expires 2021-07-07\n"
     ]
    },
    {
     "data": {
      "text/plain": [
       "50×8 Array{VariableRef,2}:\n",
       " x[1,1]   x[1,2]   x[1,3]   x[1,4]   x[1,5]   x[1,6]   x[1,7]   x[1,8]\n",
       " x[2,1]   x[2,2]   x[2,3]   x[2,4]   x[2,5]   x[2,6]   x[2,7]   x[2,8]\n",
       " x[3,1]   x[3,2]   x[3,3]   x[3,4]   x[3,5]   x[3,6]   x[3,7]   x[3,8]\n",
       " x[4,1]   x[4,2]   x[4,3]   x[4,4]   x[4,5]   x[4,6]   x[4,7]   x[4,8]\n",
       " x[5,1]   x[5,2]   x[5,3]   x[5,4]   x[5,5]   x[5,6]   x[5,7]   x[5,8]\n",
       " x[6,1]   x[6,2]   x[6,3]   x[6,4]   x[6,5]   x[6,6]   x[6,7]   x[6,8]\n",
       " x[7,1]   x[7,2]   x[7,3]   x[7,4]   x[7,5]   x[7,6]   x[7,7]   x[7,8]\n",
       " x[8,1]   x[8,2]   x[8,3]   x[8,4]   x[8,5]   x[8,6]   x[8,7]   x[8,8]\n",
       " x[9,1]   x[9,2]   x[9,3]   x[9,4]   x[9,5]   x[9,6]   x[9,7]   x[9,8]\n",
       " x[10,1]  x[10,2]  x[10,3]  x[10,4]  x[10,5]  x[10,6]  x[10,7]  x[10,8]\n",
       " x[11,1]  x[11,2]  x[11,3]  x[11,4]  x[11,5]  x[11,6]  x[11,7]  x[11,8]\n",
       " x[12,1]  x[12,2]  x[12,3]  x[12,4]  x[12,5]  x[12,6]  x[12,7]  x[12,8]\n",
       " x[13,1]  x[13,2]  x[13,3]  x[13,4]  x[13,5]  x[13,6]  x[13,7]  x[13,8]\n",
       " ⋮                                            ⋮                 \n",
       " x[39,1]  x[39,2]  x[39,3]  x[39,4]  x[39,5]  x[39,6]  x[39,7]  x[39,8]\n",
       " x[40,1]  x[40,2]  x[40,3]  x[40,4]  x[40,5]  x[40,6]  x[40,7]  x[40,8]\n",
       " x[41,1]  x[41,2]  x[41,3]  x[41,4]  x[41,5]  x[41,6]  x[41,7]  x[41,8]\n",
       " x[42,1]  x[42,2]  x[42,3]  x[42,4]  x[42,5]  x[42,6]  x[42,7]  x[42,8]\n",
       " x[43,1]  x[43,2]  x[43,3]  x[43,4]  x[43,5]  x[43,6]  x[43,7]  x[43,8]\n",
       " x[44,1]  x[44,2]  x[44,3]  x[44,4]  x[44,5]  x[44,6]  x[44,7]  x[44,8]\n",
       " x[45,1]  x[45,2]  x[45,3]  x[45,4]  x[45,5]  x[45,6]  x[45,7]  x[45,8]\n",
       " x[46,1]  x[46,2]  x[46,3]  x[46,4]  x[46,5]  x[46,6]  x[46,7]  x[46,8]\n",
       " x[47,1]  x[47,2]  x[47,3]  x[47,4]  x[47,5]  x[47,6]  x[47,7]  x[47,8]\n",
       " x[48,1]  x[48,2]  x[48,3]  x[48,4]  x[48,5]  x[48,6]  x[48,7]  x[48,8]\n",
       " x[49,1]  x[49,2]  x[49,3]  x[49,4]  x[49,5]  x[49,6]  x[49,7]  x[49,8]\n",
       " x[50,1]  x[50,2]  x[50,3]  x[50,4]  x[50,5]  x[50,6]  x[50,7]  x[50,8]"
      ]
     },
     "execution_count": 29,
     "metadata": {},
     "output_type": "execute_result"
    }
   ],
   "source": [
    "#--- Model specification\n",
    "using JuMP, DataFrames, Gurobi\n",
    "M = 1000000\n",
    "S = nrow(classes)\n",
    "T = 8\n",
    "min_units = 12 #change this for each student!\n",
    "max_units = 60 #change this for each student!\n",
    "min_workload = 40 #change this for each student!\n",
    "max_workload = 70 #change this for each student!\n",
    "\n",
    "model = Model(with_optimizer(Gurobi.Optimizer))\n",
    "\n",
    "@variable(model, x[1:S, 1:T], Bin)\n",
    "@objective(model, Max, sum())\n",
    "#@objective(model, Max, sum(utility[i, :] * sum(x[i,j] for j = 1:T) for i = 1:S))"
   ]
  },
  {
   "cell_type": "markdown",
   "id": "mineral-childhood",
   "metadata": {},
   "source": [
    "# Constraints"
   ]
  },
  {
   "cell_type": "code",
   "execution_count": 30,
   "id": "exclusive-condition",
   "metadata": {},
   "outputs": [
    {
     "data": {
      "text/plain": [
       "8-element Array{ConstraintRef{Model,C,Shape} where Shape<:AbstractShape where C,1}:\n",
       " prereq802[1] : -2 x[2,1] ≥ 0.0\n",
       " prereq802[2] : x[1,1] - 2 x[2,2] + x[3,1] ≥ 0.0\n",
       " prereq802[3] : x[1,1] + x[1,2] - 2 x[2,3] + x[3,1] + x[3,2] ≥ 0.0\n",
       " prereq802[4] : x[1,1] + x[1,2] + x[1,3] - 2 x[2,4] + x[3,1] + x[3,2] + x[3,3] ≥ 0.0\n",
       " prereq802[5] : x[1,1] + x[1,2] + x[1,3] + x[1,4] - 2 x[2,5] + x[3,1] + x[3,2] + x[3,3] + x[3,4] ≥ 0.0\n",
       " prereq802[6] : x[1,1] + x[1,2] + x[1,3] + x[1,4] + x[1,5] - 2 x[2,6] + x[3,1] + x[3,2] + x[3,3] + x[3,4] + x[3,5] ≥ 0.0\n",
       " prereq802[7] : x[1,1] + x[1,2] + x[1,3] + x[1,4] + x[1,5] + x[1,6] - 2 x[2,7] + x[3,1] + x[3,2] + x[3,3] + x[3,4] + x[3,5] + x[3,6] ≥ 0.0\n",
       " prereq802[8] : x[1,1] + x[1,2] + x[1,3] + x[1,4] + x[1,5] + x[1,6] + x[1,7] - 2 x[2,8] + x[3,1] + x[3,2] + x[3,3] + x[3,4] + x[3,5] + x[3,6] + x[3,7] ≥ 0.0"
      ]
     },
     "execution_count": 30,
     "metadata": {},
     "output_type": "execute_result"
    }
   ],
   "source": [
    "# 1. Each student takes (or gets credit for) all of the Science/Math GIRs.\n",
    "# Math GIR\n",
    "@constraint(model, math, sum(x[3, t] + x[4, t] for t = 1:T) == 1)\n",
    "\n",
    "# Physics GIR\n",
    "@constraint(model, physics, sum(x[1, t] + x[2, t] for t = 1:T) == 1)\n",
    "\n",
    "# Chemistry GIR\n",
    "@constraint(model, chem, sum(x[7, t] + x[8, t] for t = 1:T) == 1)\n",
    "\n",
    "# Biology GIR\n",
    "@constraint(model, bio, sum(x[5, t] + x[6, t] for t = 1:T) == 1)\n",
    "\n",
    "# 2. Each student takes 8 HASS subjects.\n",
    "@constraint(model, hass, sum(x[s, t] for s = 42:50 for t = 1:T) >= 8)\n",
    "\n",
    "# 3. Each student satisfies the requirements of her major (and minor).\n",
    "\n",
    "\n",
    "# 4. No subject is taken prior to its prerequisites.\n",
    "@constraint(model, prereq802[t in 2:T], sum(x[1, j] + x[3, j] for j in 1:t-1) >= 2 * x[2,t])\n",
    "\n",
    "# 5. Each student takes 216 units beyond GIRs.\n",
    "@constraint(model, units, sum(x[s, t] * classes[s, 8] for s = 1:S for t = 1:T) >= 208)\n",
    "\n",
    "# 6. No two subjects taken in Spring 2021 should overlap in time.\n",
    "\n",
    "    \n",
    "# 7. Students cannot take the same subject twice.\n",
    "#@constraint(model, once, sum(x[s, t] for s = 1:S for t = 1:T) <= 1)\n",
    "\n",
    "# 8. Each student can specify if they want to take a specific subject in the future.\n",
    "#@constraint(model, req[s in 1:S], sum(x[s, t] for t in 1:T) >= 1 - M * (1 - REQ CSV[s]))\n",
    "\n",
    "# 9. Each student can specify which semester they want to take a subject.\n",
    "#@constraint(model, reqsem[s in 1:S, t in 1:T], x[s, t] >= 1 - M * (1 - REQSEM CSV[s, t]))\n",
    "\n",
    "# 10. Each student can specify which semester they do not want to take a subject. \n",
    "#@constraint(model, reqnot[s in 1:S, t in 1:T], x[s, t] <= 1 + M * (1 - REQNOT CSV[s, t]))\n",
    "    \n",
    "# 11. The minimum and maximum number of units that each student wants to take each semester.\n",
    "#@constraint(model, minunits[t in 1:T], sum(x[s, t] * classes[s, 8] for s in 1:S) >= min_units)\n",
    "#@constraint(model, maxunits[t in 1:T], sum(x[s, t] * classes[s, 8] for s in 1:S) <= max_units)\n",
    "    \n",
    "# 12. The minimum and maximum workload (in number of hours) that each student wants to take on each semester.\n",
    "#@constraint(model, minwork[t in 1:T], sum(x[s, t] * classes[s, 10] for s in 1:S) >= min_workload)\n",
    "#@constraint(model, maxwork[t in 1:T], sum(x[s, t] * classes[s, 10] for s in 1:S) <= max_workload)"
   ]
  },
  {
   "cell_type": "code",
   "execution_count": 4,
   "id": "rural-catering",
   "metadata": {},
   "outputs": [
    {
     "name": "stdout",
     "output_type": "stream",
     "text": [
      "Gurobi Optimizer version 9.1.1 build v9.1.1rc0 (mac64)\n",
      "Thread count: 6 physical cores, 12 logical processors, using up to 12 threads\n",
      "Optimize a model with 0 rows, 400 columns and 0 nonzeros\n",
      "Model fingerprint: 0x8d7293a6\n",
      "Variable types: 0 continuous, 400 integer (400 binary)\n",
      "Coefficient statistics:\n",
      "  Matrix range     [0e+00, 0e+00]\n",
      "  Objective range  [0e+00, 0e+00]\n",
      "  Bounds range     [0e+00, 0e+00]\n",
      "  RHS range        [0e+00, 0e+00]\n",
      "Found heuristic solution: objective 0.0000000\n",
      "\n",
      "Explored 0 nodes (0 simplex iterations) in 0.00 seconds\n",
      "Thread count was 1 (of 12 available processors)\n",
      "\n",
      "Solution count 1: 0 \n",
      "\n",
      "Optimal solution found (tolerance 1.00e-04)\n",
      "Best objective 0.000000000000e+00, best bound 0.000000000000e+00, gap 0.0000%\n",
      "\n",
      "User-callback calls 21, time in user-callback 0.00 sec\n",
      "termination_status(model) = MathOptInterface.OPTIMAL\n",
      "objective_value(model) = 0.0\n"
     ]
    },
    {
     "data": {
      "text/plain": [
       "0.0"
      ]
     },
     "execution_count": 4,
     "metadata": {},
     "output_type": "execute_result"
    }
   ],
   "source": [
    "#--- Write codes here to print your solutions\n",
    "optimize!(model)\n",
    "@show termination_status(model)\n",
    "@show objective_value(model)"
   ]
  },
  {
   "cell_type": "code",
   "execution_count": 5,
   "id": "proof-wings",
   "metadata": {},
   "outputs": [
    {
     "data": {
      "text/csv": [
       "-0.0,-0.0,-0.0,-0.0,-0.0,-0.0,-0.0,-0.0\n",
       "-0.0,-0.0,-0.0,-0.0,-0.0,-0.0,-0.0,-0.0\n",
       "-0.0,-0.0,-0.0,-0.0,-0.0,-0.0,-0.0,-0.0\n",
       "-0.0,-0.0,-0.0,-0.0,-0.0,-0.0,-0.0,-0.0\n",
       "-0.0,-0.0,-0.0,-0.0,-0.0,-0.0,-0.0,-0.0\n",
       "-0.0,-0.0,-0.0,-0.0,-0.0,-0.0,-0.0,-0.0\n",
       "-0.0,-0.0,-0.0,-0.0,-0.0,-0.0,-0.0,-0.0\n",
       "-0.0,-0.0,-0.0,-0.0,-0.0,-0.0,-0.0,-0.0\n",
       "-0.0,-0.0,-0.0,-0.0,-0.0,-0.0,-0.0,-0.0\n",
       "-0.0,-0.0,-0.0,-0.0,-0.0,-0.0,-0.0,-0.0\n",
       "-0.0,-0.0,-0.0,-0.0,-0.0,-0.0,-0.0,-0.0\n",
       "-0.0,-0.0,-0.0,-0.0,-0.0,-0.0,-0.0,-0.0\n",
       "-0.0,-0.0,-0.0,-0.0,-0.0,-0.0,-0.0,-0.0\n",
       "-0.0,-0.0,-0.0,-0.0,-0.0,-0.0,-0.0,-0.0\n",
       "-0.0,-0.0,-0.0,-0.0,-0.0,-0.0,-0.0,-0.0\n",
       "-0.0,-0.0,-0.0,-0.0,-0.0,-0.0,-0.0,-0.0\n",
       "-0.0,-0.0,-0.0,-0.0,-0.0,-0.0,-0.0,-0.0\n",
       "-0.0,-0.0,-0.0,-0.0,-0.0,-0.0,-0.0,-0.0\n",
       "-0.0,-0.0,-0.0,-0.0,-0.0,-0.0,-0.0,-0.0\n",
       "-0.0,-0.0,-0.0,-0.0,-0.0,-0.0,-0.0,-0.0\n",
       "-0.0,-0.0,-0.0,-0.0,-0.0,-0.0,-0.0,-0.0\n",
       "-0.0,-0.0,-0.0,-0.0,-0.0,-0.0,-0.0,-0.0\n",
       "-0.0,-0.0,-0.0,-0.0,-0.0,-0.0,-0.0,-0.0\n",
       "-0.0,-0.0,-0.0,-0.0,-0.0,-0.0,-0.0,-0.0\n",
       "-0.0,-0.0,-0.0,-0.0,-0.0,-0.0,-0.0,-0.0\n",
       "-0.0,-0.0,-0.0,-0.0,-0.0,-0.0,-0.0,-0.0\n",
       "-0.0,-0.0,-0.0,-0.0,-0.0,-0.0,-0.0,-0.0\n",
       "-0.0,-0.0,-0.0,-0.0,-0.0,-0.0,-0.0,-0.0\n",
       "-0.0,-0.0,-0.0,-0.0,-0.0,-0.0,-0.0,-0.0\n",
       "-0.0,-0.0,-0.0,-0.0,-0.0,-0.0,-0.0,-0.0\n",
       "-0.0,-0.0,-0.0,-0.0,-0.0,-0.0,-0.0,-0.0\n",
       "-0.0,-0.0,-0.0,-0.0,-0.0,-0.0,-0.0,-0.0\n",
       "-0.0,-0.0,-0.0,-0.0,-0.0,-0.0,-0.0,-0.0\n",
       "-0.0,-0.0,-0.0,-0.0,-0.0,-0.0,-0.0,-0.0\n",
       "-0.0,-0.0,-0.0,-0.0,-0.0,-0.0,-0.0,-0.0\n",
       "-0.0,-0.0,-0.0,-0.0,-0.0,-0.0,-0.0,-0.0\n",
       "-0.0,-0.0,-0.0,-0.0,-0.0,-0.0,-0.0,-0.0\n",
       "-0.0,-0.0,-0.0,-0.0,-0.0,-0.0,-0.0,-0.0\n",
       "-0.0,-0.0,-0.0,-0.0,-0.0,-0.0,-0.0,-0.0\n",
       "-0.0,-0.0,-0.0,-0.0,-0.0,-0.0,-0.0,-0.0\n",
       "-0.0,-0.0,-0.0,-0.0,-0.0,-0.0,-0.0,-0.0\n",
       "-0.0,-0.0,-0.0,-0.0,-0.0,-0.0,-0.0,-0.0\n",
       "-0.0,-0.0,-0.0,-0.0,-0.0,-0.0,-0.0,-0.0\n",
       "-0.0,-0.0,-0.0,-0.0,-0.0,-0.0,-0.0,-0.0\n",
       "-0.0,-0.0,-0.0,-0.0,-0.0,-0.0,-0.0,-0.0\n",
       "-0.0,-0.0,-0.0,-0.0,-0.0,-0.0,-0.0,-0.0\n",
       "-0.0,-0.0,-0.0,-0.0,-0.0,-0.0,-0.0,-0.0\n",
       "-0.0,-0.0,-0.0,-0.0,-0.0,-0.0,-0.0,-0.0\n",
       "-0.0,-0.0,-0.0,-0.0,-0.0,-0.0,-0.0,-0.0\n",
       "-0.0,-0.0,-0.0,-0.0,-0.0,-0.0,-0.0,-0.0\n"
      ],
      "text/plain": [
       "-0.0,-0.0,-0.0,-0.0,-0.0,-0.0,-0.0,-0.0\n",
       "-0.0,-0.0,-0.0,-0.0,-0.0,-0.0,-0.0,-0.0\n",
       "-0.0,-0.0,-0.0,-0.0,-0.0,-0.0,-0.0,-0.0\n",
       "-0.0,-0.0,-0.0,-0.0,-0.0,-0.0,-0.0,-0.0\n",
       "-0.0,-0.0,-0.0,-0.0,-0.0,-0.0,-0.0,-0.0\n",
       "-0.0,-0.0,-0.0,-0.0,-0.0,-0.0,-0.0,-0.0\n",
       "-0.0,-0.0,-0.0,-0.0,-0.0,-0.0,-0.0,-0.0\n",
       "-0.0,-0.0,-0.0,-0.0,-0.0,-0.0,-0.0,-0.0\n",
       "-0.0,-0.0,-0.0,-0.0,-0.0,-0.0,-0.0,-0.0\n",
       "-0.0,-0.0,-0.0,-0.0,-0.0,-0.0,-0.0,-0.0\n",
       "-0.0,-0.0,-0.0,-0.0,-0.0,-0.0,-0.0,-0.0\n",
       "-0.0,-0.0,-0.0,-0.0,-0.0,-0.0,-0.0,-0.0\n",
       "-0.0,-0.0,-0.0,-0.0,-0.0,-0.0,-0.0,-0.0\n",
       "-0.0,-0.0,-0.0,-0.0,-0.0,-0.0,-0.0,-0.0\n",
       "-0.0,-0.0,-0.0,-0.0,-0.0,-0.0,-0.0,-0.0\n",
       "-0.0,-0.0,-0.0,-0.0,-0.0,-0.0,-0.0,-0.0\n",
       "-0.0,-0.0,-0.0,-0.0,-0.0,-0.0,-0.0,-0.0\n",
       "-0.0,-0.0,-0.0,-0.0,-0.0,-0.0,-0.0,-0.0\n",
       "-0.0,-0.0,-0.0,-0.0,-0.0,-0.0,-0.0,-0.0\n",
       "-0.0,-0.0,-0.0,-0.0,-0.0,-0.0,-0.0,-0.0\n",
       "-0.0,-0.0,-0.0,-0.0,-0.0,-0.0,-0.0,-0.0\n",
       "-0.0,-0.0,-0.0,-0.0,-0.0,-0.0,-0.0,-0.0\n",
       "-0.0,-0.0,-0.0,-0.0,-0.0,-0.0,-0.0,-0.0\n",
       "-0.0,-0.0,-0.0,-0.0,-0.0,-0.0,-0.0,-0.0\n",
       "-0.0,-0.0,-0.0,-0.0,-0.0,-0.0,-0.0,-0.0\n",
       "-0.0,-0.0,-0.0,-0.0,-0.0,-0.0,-0.0,-0.0\n",
       "-0.0,-0.0,-0.0,-0.0,-0.0,-0.0,-0.0,-0.0\n",
       "-0.0,-0.0,-0.0,-0.0,-0.0,-0.0,-0.0,-0.0\n",
       "-0.0,-0.0,-0.0,-0.0,-0.0,-0.0,-0.0,-0.0\n",
       "-0.0,-0.0,-0.0,-0.0,-0.0,-0.0,-0.0,-0.0\n",
       "-0.0,-0.0,-0.0,-0.0,-0.0,-0.0,-0.0,-0.0\n",
       "-0.0,-0.0,-0.0,-0.0,-0.0,-0.0,-0.0,-0.0\n",
       "-0.0,-0.0,-0.0,-0.0,-0.0,-0.0,-0.0,-0.0\n",
       "-0.0,-0.0,-0.0,-0.0,-0.0,-0.0,-0.0,-0.0\n",
       "-0.0,-0.0,-0.0,-0.0,-0.0,-0.0,-0.0,-0.0\n",
       "-0.0,-0.0,-0.0,-0.0,-0.0,-0.0,-0.0,-0.0\n",
       "-0.0,-0.0,-0.0,-0.0,-0.0,-0.0,-0.0,-0.0\n",
       "-0.0,-0.0,-0.0,-0.0,-0.0,-0.0,-0.0,-0.0\n",
       "-0.0,-0.0,-0.0,-0.0,-0.0,-0.0,-0.0,-0.0\n",
       "-0.0,-0.0,-0.0,-0.0,-0.0,-0.0,-0.0,-0.0\n",
       "-0.0,-0.0,-0.0,-0.0,-0.0,-0.0,-0.0,-0.0\n",
       "-0.0,-0.0,-0.0,-0.0,-0.0,-0.0,-0.0,-0.0\n",
       "-0.0,-0.0,-0.0,-0.0,-0.0,-0.0,-0.0,-0.0\n",
       "-0.0,-0.0,-0.0,-0.0,-0.0,-0.0,-0.0,-0.0\n",
       "-0.0,-0.0,-0.0,-0.0,-0.0,-0.0,-0.0,-0.0\n",
       "-0.0,-0.0,-0.0,-0.0,-0.0,-0.0,-0.0,-0.0\n",
       "-0.0,-0.0,-0.0,-0.0,-0.0,-0.0,-0.0,-0.0\n",
       "-0.0,-0.0,-0.0,-0.0,-0.0,-0.0,-0.0,-0.0\n",
       "-0.0,-0.0,-0.0,-0.0,-0.0,-0.0,-0.0,-0.0\n",
       "-0.0,-0.0,-0.0,-0.0,-0.0,-0.0,-0.0,-0.0\n"
      ]
     },
     "metadata": {},
     "output_type": "display_data"
    }
   ],
   "source": [
    "display(\"text/csv\", value.(x)) # could also display JSON"
   ]
  }
 ],
 "metadata": {
  "kernelspec": {
   "display_name": "Julia 1.5.3",
   "language": "julia",
   "name": "julia-1.5"
  },
  "language_info": {
   "file_extension": ".jl",
   "mimetype": "application/julia",
   "name": "julia",
   "version": "1.5.3"
  }
 },
 "nbformat": 4,
 "nbformat_minor": 5
}
