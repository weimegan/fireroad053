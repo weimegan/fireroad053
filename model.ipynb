{
 "cells": [
  {
   "cell_type": "markdown",
   "metadata": {},
   "source": [
    "# FireRoad053 Model"
   ]
  },
  {
   "cell_type": "code",
   "execution_count": 1,
   "metadata": {
    "scrolled": false
   },
   "outputs": [
    {
     "data": {
      "text/html": [
       "<table class=\"data-frame\"><thead><tr><th></th><th>Column1</th><th>gir_attribute</th><th>hass_attribute</th><th>id</th><th>prereqs</th></tr><tr><th></th><th>String</th><th>String?</th><th>String?</th><th>String</th><th>String?</th></tr></thead><tbody><p>51 rows × 10 columns (omitted printing of 5 columns)</p><tr><th>1</th><td>8.01</td><td>PHY1</td><td><em>missing</em></td><td>8.01</td><td><em>missing</em></td></tr><tr><th>2</th><td>8.02</td><td>PHY2</td><td><em>missing</em></td><td>8.02</td><td>GIR:CAL1 and GIR:PHY1</td></tr><tr><th>3</th><td>18.01</td><td>CAL1</td><td><em>missing</em></td><td>18.01</td><td><em>missing</em></td></tr><tr><th>4</th><td>18.02</td><td>CAL2</td><td><em>missing</em></td><td>18.02</td><td>GIR:CAL1</td></tr><tr><th>5</th><td>7.014</td><td>BIOL</td><td><em>missing</em></td><td>7.014</td><td><em>missing</em></td></tr><tr><th>6</th><td>7.016</td><td>BIOL</td><td><em>missing</em></td><td>7.016</td><td><em>missing</em></td></tr><tr><th>7</th><td>3.091</td><td>CHEM</td><td><em>missing</em></td><td>3.091</td><td><em>missing</em></td></tr><tr><th>8</th><td>5.111</td><td>CHEM</td><td><em>missing</em></td><td>5.111</td><td><em>missing</em></td></tr><tr><th>9</th><td>5.07</td><td>REST</td><td><em>missing</em></td><td>5.07</td><td>5.12</td></tr><tr><th>10</th><td>5.12</td><td>REST</td><td><em>missing</em></td><td>5.12</td><td>GIR:CHEM</td></tr><tr><th>11</th><td>5.13</td><td><em>missing</em></td><td><em>missing</em></td><td>5.13</td><td>5.12</td></tr><tr><th>12</th><td>5.310</td><td>LAB</td><td><em>missing</em></td><td>5.310</td><td>5.12</td></tr><tr><th>13</th><td>5.601</td><td>RST2</td><td><em>missing</em></td><td>5.601</td><td>GIR:CAL2 and GIR:CHEM</td></tr><tr><th>14</th><td>5.602</td><td>RST2</td><td><em>missing</em></td><td>5.602</td><td>5.601</td></tr><tr><th>15</th><td>6.0001</td><td>RST2</td><td><em>missing</em></td><td>6.0001</td><td><em>missing</em></td></tr><tr><th>16</th><td>6.0002</td><td>RST2</td><td><em>missing</em></td><td>6.0002</td><td>6.0001 or permission of instructor</td></tr><tr><th>17</th><td>6.003</td><td>REST</td><td><em>missing</em></td><td>6.003</td><td>GIR:CAL1 and 6.0001</td></tr><tr><th>18</th><td>6.004</td><td>REST</td><td><em>missing</em></td><td>6.004</td><td>GIR:PHY2 and 6.0001</td></tr><tr><th>19</th><td>6.006</td><td><em>missing</em></td><td><em>missing</em></td><td>6.006</td><td>6.042 and (6.0001 or 6.009)</td></tr><tr><th>20</th><td>6.009</td><td>LAB</td><td><em>missing</em></td><td>6.009</td><td>6.0001</td></tr><tr><th>21</th><td>6.03</td><td>LAB</td><td><em>missing</em></td><td>6.03</td><td>GIR:CAL2 and GIR:PHY2</td></tr><tr><th>22</th><td>6.031</td><td><em>missing</em></td><td><em>missing</em></td><td>6.031</td><td>6.009</td></tr><tr><th>23</th><td>6.033</td><td><em>missing</em></td><td><em>missing</em></td><td>6.033</td><td>6.004 and 6.009</td></tr><tr><th>24</th><td>6.036</td><td><em>missing</em></td><td><em>missing</em></td><td>6.036</td><td>GIR:CAL2 and 6.0001</td></tr><tr><th>25</th><td>6.042</td><td>REST</td><td><em>missing</em></td><td>6.042</td><td>GIR:CAL1</td></tr><tr><th>26</th><td>6.046</td><td><em>missing</em></td><td><em>missing</em></td><td>6.046</td><td>6.006</td></tr><tr><th>27</th><td>6.08</td><td>LAB</td><td><em>missing</em></td><td>6.08</td><td>6.0001 and GIR:PHY2</td></tr><tr><th>28</th><td>6.806</td><td><em>missing</em></td><td><em>missing</em></td><td>6.806</td><td>6.046 or permission of instructor</td></tr><tr><th>29</th><td>6.819</td><td><em>missing</em></td><td><em>missing</em></td><td>6.819</td><td>18.06 and 6.042</td></tr><tr><th>30</th><td>6.UAT</td><td><em>missing</em></td><td><em>missing</em></td><td>6.UAT</td><td><em>missing</em></td></tr><tr><th>&vellip;</th><td>&vellip;</td><td>&vellip;</td><td>&vellip;</td><td>&vellip;</td><td>&vellip;</td></tr></tbody></table>"
      ],
      "text/latex": [
       "\\begin{tabular}{r|cccccc}\n",
       "\t& Column1 & gir\\_attribute & hass\\_attribute & id & prereqs & \\\\\n",
       "\t\\hline\n",
       "\t& String & String? & String? & String & String? & \\\\\n",
       "\t\\hline\n",
       "\t1 & 8.01 & PHY1 & \\emph{missing} & 8.01 & \\emph{missing} & $\\dots$ \\\\\n",
       "\t2 & 8.02 & PHY2 & \\emph{missing} & 8.02 & GIR:CAL1 and GIR:PHY1 & $\\dots$ \\\\\n",
       "\t3 & 18.01 & CAL1 & \\emph{missing} & 18.01 & \\emph{missing} & $\\dots$ \\\\\n",
       "\t4 & 18.02 & CAL2 & \\emph{missing} & 18.02 & GIR:CAL1 & $\\dots$ \\\\\n",
       "\t5 & 7.014 & BIOL & \\emph{missing} & 7.014 & \\emph{missing} & $\\dots$ \\\\\n",
       "\t6 & 7.016 & BIOL & \\emph{missing} & 7.016 & \\emph{missing} & $\\dots$ \\\\\n",
       "\t7 & 3.091 & CHEM & \\emph{missing} & 3.091 & \\emph{missing} & $\\dots$ \\\\\n",
       "\t8 & 5.111 & CHEM & \\emph{missing} & 5.111 & \\emph{missing} & $\\dots$ \\\\\n",
       "\t9 & 5.07 & REST & \\emph{missing} & 5.07 & 5.12 & $\\dots$ \\\\\n",
       "\t10 & 5.12 & REST & \\emph{missing} & 5.12 & GIR:CHEM & $\\dots$ \\\\\n",
       "\t11 & 5.13 & \\emph{missing} & \\emph{missing} & 5.13 & 5.12 & $\\dots$ \\\\\n",
       "\t12 & 5.310 & LAB & \\emph{missing} & 5.310 & 5.12 & $\\dots$ \\\\\n",
       "\t13 & 5.601 & RST2 & \\emph{missing} & 5.601 & GIR:CAL2 and GIR:CHEM & $\\dots$ \\\\\n",
       "\t14 & 5.602 & RST2 & \\emph{missing} & 5.602 & 5.601 & $\\dots$ \\\\\n",
       "\t15 & 6.0001 & RST2 & \\emph{missing} & 6.0001 & \\emph{missing} & $\\dots$ \\\\\n",
       "\t16 & 6.0002 & RST2 & \\emph{missing} & 6.0002 & 6.0001 or permission of instructor & $\\dots$ \\\\\n",
       "\t17 & 6.003 & REST & \\emph{missing} & 6.003 & GIR:CAL1 and 6.0001 & $\\dots$ \\\\\n",
       "\t18 & 6.004 & REST & \\emph{missing} & 6.004 & GIR:PHY2 and 6.0001 & $\\dots$ \\\\\n",
       "\t19 & 6.006 & \\emph{missing} & \\emph{missing} & 6.006 & 6.042 and (6.0001 or 6.009) & $\\dots$ \\\\\n",
       "\t20 & 6.009 & LAB & \\emph{missing} & 6.009 & 6.0001 & $\\dots$ \\\\\n",
       "\t21 & 6.03 & LAB & \\emph{missing} & 6.03 & GIR:CAL2 and GIR:PHY2 & $\\dots$ \\\\\n",
       "\t22 & 6.031 & \\emph{missing} & \\emph{missing} & 6.031 & 6.009 & $\\dots$ \\\\\n",
       "\t23 & 6.033 & \\emph{missing} & \\emph{missing} & 6.033 & 6.004 and 6.009 & $\\dots$ \\\\\n",
       "\t24 & 6.036 & \\emph{missing} & \\emph{missing} & 6.036 & GIR:CAL2 and 6.0001 & $\\dots$ \\\\\n",
       "\t25 & 6.042 & REST & \\emph{missing} & 6.042 & GIR:CAL1 & $\\dots$ \\\\\n",
       "\t26 & 6.046 & \\emph{missing} & \\emph{missing} & 6.046 & 6.006 & $\\dots$ \\\\\n",
       "\t27 & 6.08 & LAB & \\emph{missing} & 6.08 & 6.0001 and GIR:PHY2 & $\\dots$ \\\\\n",
       "\t28 & 6.806 & \\emph{missing} & \\emph{missing} & 6.806 & 6.046 or permission of instructor & $\\dots$ \\\\\n",
       "\t29 & 6.819 & \\emph{missing} & \\emph{missing} & 6.819 & 18.06 and 6.042 & $\\dots$ \\\\\n",
       "\t30 & 6.UAT & \\emph{missing} & \\emph{missing} & 6.UAT & \\emph{missing} & $\\dots$ \\\\\n",
       "\t$\\dots$ & $\\dots$ & $\\dots$ & $\\dots$ & $\\dots$ & $\\dots$ &  \\\\\n",
       "\\end{tabular}\n"
      ],
      "text/plain": [
       "\u001b[1m51×10 DataFrame\u001b[0m\n",
       "\u001b[1m Row \u001b[0m│\u001b[1m Column1 \u001b[0m\u001b[1m gir_attribute \u001b[0m\u001b[1m hass_attribute \u001b[0m\u001b[1m id      \u001b[0m\u001b[1m prereqs               \u001b[0m\u001b[1m\u001b[0m ⋯\n",
       "\u001b[1m     \u001b[0m│\u001b[90m String  \u001b[0m\u001b[90m String?       \u001b[0m\u001b[90m String?        \u001b[0m\u001b[90m String  \u001b[0m\u001b[90m String?               \u001b[0m\u001b[90m\u001b[0m ⋯\n",
       "─────┼──────────────────────────────────────────────────────────────────────────\n",
       "   1 │ 8.01     PHY1          \u001b[90m missing        \u001b[0m 8.01    \u001b[90m missing               \u001b[0m ⋯\n",
       "   2 │ 8.02     PHY2          \u001b[90m missing        \u001b[0m 8.02     GIR:CAL1 and GIR:PHY1\n",
       "   3 │ 18.01    CAL1          \u001b[90m missing        \u001b[0m 18.01   \u001b[90m missing               \u001b[0m\n",
       "   4 │ 18.02    CAL2          \u001b[90m missing        \u001b[0m 18.02    GIR:CAL1\n",
       "   5 │ 7.014    BIOL          \u001b[90m missing        \u001b[0m 7.014   \u001b[90m missing               \u001b[0m ⋯\n",
       "   6 │ 7.016    BIOL          \u001b[90m missing        \u001b[0m 7.016   \u001b[90m missing               \u001b[0m\n",
       "   7 │ 3.091    CHEM          \u001b[90m missing        \u001b[0m 3.091   \u001b[90m missing               \u001b[0m\n",
       "   8 │ 5.111    CHEM          \u001b[90m missing        \u001b[0m 5.111   \u001b[90m missing               \u001b[0m\n",
       "   9 │ 5.07     REST          \u001b[90m missing        \u001b[0m 5.07     5.12                   ⋯\n",
       "  10 │ 5.12     REST          \u001b[90m missing        \u001b[0m 5.12     GIR:CHEM\n",
       "  11 │ 5.13    \u001b[90m missing       \u001b[0m\u001b[90m missing        \u001b[0m 5.13     5.12\n",
       "  ⋮  │    ⋮           ⋮              ⋮            ⋮               ⋮            ⋱\n",
       "  42 │ 21H.134 \u001b[90m missing       \u001b[0m HS              21H.134 \u001b[90m missing               \u001b[0m\n",
       "  43 │ 21A.500 \u001b[90m missing       \u001b[0m HS              21A.500 \u001b[90m missing               \u001b[0m ⋯\n",
       "  44 │ 21L.019 \u001b[90m missing       \u001b[0m HH              21L.019 \u001b[90m missing               \u001b[0m\n",
       "  45 │ 21M.273 \u001b[90m missing       \u001b[0m HA              21M.273 \u001b[90m missing               \u001b[0m\n",
       "  46 │ 24.013  \u001b[90m missing       \u001b[0m HH              24.013  \u001b[90m missing               \u001b[0m\n",
       "  47 │ 21G.701 \u001b[90m missing       \u001b[0m HH              21G.701 \u001b[90m missing               \u001b[0m ⋯\n",
       "  48 │ 21H.343 \u001b[90m missing       \u001b[0m HA              21H.343 \u001b[90m missing               \u001b[0m\n",
       "  49 │ 9.00    \u001b[90m missing       \u001b[0m HS              9.00    \u001b[90m missing               \u001b[0m\n",
       "  50 │ 14.01   \u001b[90m missing       \u001b[0m HS              14.01   \u001b[90m missing               \u001b[0m\n",
       "  51 │ 5.03    \u001b[90m missing       \u001b[0m\u001b[90m missing        \u001b[0m 5.03     5.12                   ⋯\n",
       "\u001b[36m                                                   5 columns and 30 rows omitted\u001b[0m"
      ]
     },
     "execution_count": 1,
     "metadata": {},
     "output_type": "execute_result"
    }
   ],
   "source": [
    "## if you have not installed package \"CSV\" or \"JSON\", please uncomment the line below and execute it\n",
    "# using Pkg; Pkg.add(\"CSV\")\n",
    "\n",
    "using DataFrames, CSV\n",
    "student1 = CSV.read(\"finaldata/student1.csv\", DataFrame)\n",
    "student2 = CSV.read(\"finaldata/student2.csv\", DataFrame)\n",
    "student3 = CSV.read(\"finaldata/student3.csv\", DataFrame)\n",
    "student4 = CSV.read(\"finaldata/student4.csv\", DataFrame)\n",
    "student5 = CSV.read(\"finaldata/student5.csv\", DataFrame)\n",
    "student6 = CSV.read(\"finaldata/student6.csv\", DataFrame)\n",
    "reqs = CSV.read(\"finaldata/REQ.csv\", DataFrame)\n",
    "reqnots = CSV.read(\"finaldata/REQNOT.csv\", DataFrame)\n",
    "reqsems = CSV.read(\"finaldata/REQSEM.csv\", DataFrame)\n",
    "classes = CSV.read(\"finaldata/parsedsp21_actual_classes.csv\", DataFrame)"
   ]
  },
  {
   "cell_type": "code",
   "execution_count": 2,
   "metadata": {},
   "outputs": [
    {
     "data": {
      "text/plain": [
       "0.0"
      ]
     },
     "execution_count": 2,
     "metadata": {},
     "output_type": "execute_result"
    }
   ],
   "source": [
    "#classes[!,\"sections\"][3]\n",
    "using JSON\n",
    "classesjson = JSON.parsefile(\"finaldata/combodict.json\")\n",
    "#classesjson = JSON.parsefile(\"finaldata/parsedsp21_dummy.json\") #multiple sections\n",
    "# one section: finaldata/parsedsp21_actual_classes.json\n",
    "sections = [\"LectureSession\", \"RecitationSession\", \"LabSession\"]\n",
    "combInd = [1, 8, 26, 27, 37, 48, 59, 70, 79, 82, 94, 102, 104, 106, 108, 116, 124, 127, 139, 161, 173, 177, 178, 502, 510, 524, 534, 546, 547, 548, 549, 551, 557, 558, 561, 562, 564, 565, 566, 576, 579, 581, 582, 583, 584, 585, 587, 589, 590, 600, 603]\n",
    "\n",
    "# for class in keys(classesjson)\n",
    "#     for section in keys(classesjson[class][\"sections\"])\n",
    "#         print(classesjson[class][\"sections\"][section])\n",
    "#     end\n",
    "# end\n",
    "\n",
    "#classesjson[\"6.006\"][\"sections\"][\"RecitationSession\"]\n",
    "size(classesjson[\"6.006\"][1])[1]\n",
    "classesjson[\"6.006\"][1][1]"
   ]
  },
  {
   "cell_type": "code",
   "execution_count": 3,
   "metadata": {},
   "outputs": [
    {
     "data": {
      "text/plain": [
       "Dict{Any,Any} with 51 entries:\n",
       "  2  => \"8.02\"\n",
       "  11 => \"5.13\"\n",
       "  39 => \"18.06\"\n",
       "  46 => \"24.013\"\n",
       "  25 => \"6.042\"\n",
       "  42 => \"21H.134\"\n",
       "  29 => \"6.819\"\n",
       "  8  => \"5.111\"\n",
       "  20 => \"6.009\"\n",
       "  14 => \"5.602\"\n",
       "  31 => \"15.0251\"\n",
       "  33 => \"15.068\"\n",
       "  18 => \"6.004\"\n",
       "  26 => \"6.046\"\n",
       "  35 => \"15.312\"\n",
       "  17 => \"6.003\"\n",
       "  49 => \"9.00\"\n",
       "  44 => \"21L.019\"\n",
       "  4  => \"18.02\"\n",
       "  37 => \"15.780\"\n",
       "  45 => \"21M.273\"\n",
       "  13 => \"5.601\"\n",
       "  30 => \"6.UAT\"\n",
       "  1  => \"8.01\"\n",
       "  47 => \"21G.701\"\n",
       "  ⋮  => ⋮"
      ]
     },
     "execution_count": 3,
     "metadata": {},
     "output_type": "execute_result"
    }
   ],
   "source": [
    "indToId = Dict()\n",
    "for i in 1:size(classes)[1]\n",
    "    indToId[i] = classes[i,1]\n",
    "end\n",
    "indToId"
   ]
  },
  {
   "cell_type": "code",
   "execution_count": null,
   "metadata": {},
   "outputs": [],
   "source": [
    "studentdata = JSON.parsefile(\"finaldata/students_data.json\")\n",
    "studentdata"
   ]
  },
  {
   "cell_type": "code",
   "execution_count": null,
   "metadata": {},
   "outputs": [],
   "source": [
    "classes_more_sections = CSV.read(\"finaldata/parsedclasses.csv\", DataFrame)\n",
    "classes_more_sections[1, \"sections\"]"
   ]
  },
  {
   "cell_type": "markdown",
   "metadata": {},
   "source": [
    "# Model"
   ]
  },
  {
   "cell_type": "code",
   "execution_count": null,
   "metadata": {},
   "outputs": [],
   "source": [
    "#--- Model specification\n",
    "\n",
    "using JuMP, DataFrames, Gurobi\n",
    "M = 1000000\n",
    "S = nrow(classes)\n",
    "T = 8\n",
    "O = 150 # number of timeslots\n",
    "C = 604 # total combinations\n",
    "min_units = 12 #change this for each student!\n",
    "max_units = 60 #change this for each student!\n",
    "min_workload = 20 #change this for each student!\n",
    "max_workload = 60 #change this for each student!\n",
    "curr_t = 4 #change this for each student!\n",
    "model = Model(with_optimizer(Gurobi.Optimizer))\n",
    "\n",
    "@variable(model, x[1:S, 1:T], Bin)\n",
    "@variable(model, comb[1:C], Bin)\n",
    "@objective(model, Max, sum(sum(x[s, t] for t = 1:T) * classes[s, 9] for s = 1:S))"
   ]
  },
  {
   "cell_type": "markdown",
   "metadata": {},
   "source": [
    "# Constraints"
   ]
  },
  {
   "cell_type": "code",
   "execution_count": null,
   "metadata": {},
   "outputs": [],
   "source": [
    "# 1. Each student takes (or gets credit for) all of the Science/Math GIRs.\n",
    "# Math GIR\n",
    "@constraint(model, math, sum(x[3, t] + x[4, t] for t = 1:T) == 2)\n",
    "\n",
    "# Physics GIR\n",
    "@constraint(model, physics, sum(x[1, t] + x[2, t] for t = 1:T) == 2)\n",
    "\n",
    "# Chemistry GIR\n",
    "@constraint(model, chem, sum(x[7, t] + x[8, t] for t = 1:T) == 1)\n",
    "\n",
    "# Biology GIR\n",
    "@constraint(model, bio, sum(x[5, t] + x[6, t] for t = 1:T) == 1)\n",
    "\n",
    "# 2. Each student takes 8 HASS subjects.\n",
    "@constraint(model, hass, sum(x[s, t] for s = 42:50 for t = 1:T) >= 8)\n",
    "\n",
    "# 3. Each student satisfies the requirements of her major (and minor).\n",
    "# 6-3 Major Requirements\n",
    "# @constraint(model, major63, sum(x[15, t] + x[25, t] + x[30, t] + x[18, t] + x[19, t] + x[20, t] + x[22, t] + x[23, t] + x[24, t] + x[27, t] + x[28, t] + x[29, t] + x[17, t] for t in 1:T) == 13)\n",
    "# @constraint(model, major6360x, sum(x[21, t] + x[27, t] for t in 1:T) >= 1)\n",
    "\n",
    "# # 15-2 Major Requirements\n",
    "# @constraint(model, major152, sum(x[34, t] + x[15, t] + x[16, t] + x[35, t] + x[32, t] + x[40, t] + x[41, t] + x[37, t] + x[24, t] + x[36, t] + x[38, t] + x[25, t] + x[39, t] + x[31, t] for t in 1:T) == 14)\n",
    "\n",
    "# #5 Minor Requirements\n",
    "# @constraint(model, minor5, sum(x[s, t] for s in 9:14 for t in 1:T) == 6)\n",
    "# @constraint(model, minor5b, sum(x[51, t] for t in 1:T) == 1)\n",
    "\n",
    "# 4. No subject is taken prior to its prerequisites.\n",
    "@constraint(model, prereq802[t in 2:T], sum(x[1, j] + x[3, j] for j in 1:t-1) >= 2 * x[2, t])\n",
    "@constraint(model, prereq1802[t in 2:T], sum(x[3, j] for j in 1:t-1) >= x[4, t])\n",
    "@constraint(model, prereq503[t in 2:T], sum(x[10, j] for j in 1:t-1) >= x[51, t])\n",
    "@constraint(model, prereq507[t in 2:T], sum(x[10, j] for j in 1:t-1) >= x[9, t])\n",
    "@constraint(model, prereq512[t in 2:T], sum(x[7, j] + x[8, j] for j in 1:t-1) >= x[10, t])\n",
    "@constraint(model, prereq513[t in 2:T], sum(x[10, j] for j in 1:t-1) >= x[11, t])\n",
    "@constraint(model, prereq5310[t in 2:T], sum(x[10, j] for j in 1:t-1) >= x[12, t])\n",
    "@constraint(model, prereq5601cal[t in 2:T], sum(x[4, j] for j in 1:t-1) >= x[13, t])\n",
    "@constraint(model, prereq5601chem[t in 2:T], sum(x[7, j] + x[8, j] for j in 1:t-1) >= x[13, t])\n",
    "@constraint(model, prereq5602[t in 2:T], sum(x[13, j] for j in 1:t-1) >= x[14, t])\n",
    "@constraint(model, prereq60002[t in 2:T], sum(x[15, j] for j in 1:t-1) >= x[16, t])\n",
    "@constraint(model, prereq6003[t in 2:T], sum(x[3, j] + x[15, j] for j in 1:t-1) >= 2 * x[17, t])\n",
    "@constraint(model, prereq6004[t in 2:T], sum(x[2, j] + x[15, j] for j in 1:t-1) >= 2 * x[18, t])\n",
    "@constraint(model, prereq6006a[t in 2:T], sum(x[25, j] for j in 1:t-1) >= x[19, t])\n",
    "@constraint(model, prereq6006b[t in 2:T], sum(x[15, j] + x[20, j] for j in 1:t-1) >= x[19, t])\n",
    "@constraint(model, prereq6009[t in 2:T], sum(x[15, j] for j in 1:t-1) >= x[20, t])\n",
    "@constraint(model, prereq603[t in 2:T], sum(x[2, j] + x[4, j] for j in 1:t-1) >= 2 * x[21, t])\n",
    "@constraint(model, prereq6031[t in 2:T], sum(x[20, j] for j in 1:t-1) >= x[22, t])\n",
    "@constraint(model, prereq6033[t in 2:T], sum(x[18, j] + x[20, j] for j in 1:t-1) >= 2 * x[23, t])\n",
    "@constraint(model, prereq6036[t in 2:T], sum(x[4, j] + x[15, j] for j in 1:t-1) >= 2 * x[24, t])\n",
    "@constraint(model, prereq6042[t in 2:T], sum(x[3, j] for j in 1:t-1) >= x[25, t])\n",
    "@constraint(model, prereq6046[t in 2:T], sum(x[19, j] for j in 1:t-1) >= x[26, t])\n",
    "@constraint(model, prereq608[t in 2:T], sum(x[2, j] + x[15, j] for j in 1:t) >= 2 * x[27, t])\n",
    "@constraint(model, prereq6806[t in 2:T], sum(x[26, j] for j in 1:t-1) >= x[28, t])\n",
    "@constraint(model, prereq6819[t in 2:T], sum(x[25, j] + x[39, j] for j in 1:t-1) >= 2 * x[29, t])\n",
    "@constraint(model, prereq150251[t in 2:T], sum(x[50, j] for j in 1:t-1) >= x[31, t])\n",
    "@constraint(model, prereq15053[t in 2:T], sum(x[15, j] for j in 1:t-1) >= x[32, t])\n",
    "@constraint(model, prereq1806[t in 2:T], sum(x[4, j] for j in 1:t-1) >= x[39, t])\n",
    "@constraint(model, prereq18600[t in 2:T], sum(x[4, j] for j in 1:t-1) >= x[40, t])\n",
    "@constraint(model, prereq18650[t in 2:T], sum(x[40, j] for j in 1:t-1) >= x[41, t])\n",
    "\n",
    "# 5. Each student takes 216 units beyond GIRs.\n",
    "@constraint(model, units, sum(x[s, t] * classes[s, 8] for s = 1:S for t = 1:T) >= 208)\n",
    "\n",
    "# 6. No two subjects taken in Spring 2021 should overlap in time.\n",
    "# choose one or none combos for each class\n",
    "@constraint(model, choosecombo[s in 1:S], sum(comb[combInd[s]:combInd[s]+size(classesjson[indToId[s]])[1]-1]) <= 1)\n",
    "\n",
    "# choose combo for a class iff choose class\n",
    "@constraint(model, takeclass[s in 1:S], sum(comb[combInd[s]:combInd[s]+size(classesjson[indToId[s]])[1]-1]) - x[s, curr_t] == 0)\n",
    "\n",
    "# for each timeslot, no conflicts\n",
    "@constraint(model, conflict[o in 1:O], sum(classesjson[indToId[s]][i][o]*comb[combInd[s]:combInd[s]+size(classesjson[indToId[s]])[1]-1][i] for s in 1:S for i in 1:size(classesjson[indToId[s]])[1]) <= 1)\n",
    "                         \n",
    "# 7. Students cannot take the same subject twice.\n",
    "@constraint(model, once[s in 1:S], sum(x[s, t] for t = 1:T) <= 1)\n",
    "\n",
    "# 8. Each student can specify if they want to take a specific subject in the future.\n",
    "@constraint(model, req[s in 1:S], sum(x[s, t] for t in 1:T) >= 1 - M * (1 - reqs[s, 1]))\n",
    "\n",
    "# 9. Each student can specify which semester they want to take a subject.\n",
    "@constraint(model, reqsem[s in 1:S, t in 1:T], x[s, t] >= 1 - M * (1 - reqsems[s, t]))\n",
    "\n",
    "# 10. Each student can specify which semester they do not want to take a subject. \n",
    "@constraint(model, reqnot[s in 1:S, t in 1:T], x[s, t] <= 1 + M * (1 - reqnots[s, t]))\n",
    "    \n",
    "# 11. The minimum and maximum number of units that each student wants to take each semester.\n",
    "@constraint(model, minunits[t in 1:T], sum(x[s, t] * classes[s, 8] for s in 1:S) >= min_units)\n",
    "@constraint(model, maxunits[t in 1:T], sum(x[s, t] * classes[s, 8] for s in 1:S) <= max_units)\n",
    "    \n",
    "# 12. The minimum and maximum workload (in number of hours) that each student wants to take on each semester.\n",
    "@constraint(model, minwork[t in 1:T], sum(x[s, t] * classes[s, 10] for s in 1:S) >= min_workload)\n",
    "@constraint(model, maxwork[t in 1:T], sum(x[s, t] * classes[s, 10] for s in 1:S) <= max_workload)\n",
    "\n",
    "# 13. Restricts taking classes to the semester they're offered\n",
    "@constraint(model, fall_only[s in [1, 9, 11, 35, 37]], sum(x[s, t] for t in [2, 4, 6, 8]) == 0)\n",
    "@constraint(model, spring_only[s in [6, 21, 23, 27, 28, 29, 31, 32, 33, 38, 51]], sum(x[s, t] for t in [1, 3, 5, 7]) == 0)"
   ]
  },
  {
   "cell_type": "code",
   "execution_count": null,
   "metadata": {},
   "outputs": [],
   "source": [
    "#Classes Students have already taken\n",
    "# !! Change for each student (change var name and t and file index)\n",
    "\n",
    "# @constraint(model, student1_taken[s in 1:S, t in 1:1], x[s, t] == student1[s, t])\n",
    "# @constraint(model, student2_taken[s in 1:S, t in 1:3], x[s, t] == student2[s, t])\n",
    "# @constraint(model, student3_taken[s in 1:S, t in 1:5], x[s, t] == student3[s, t])\n",
    "\n",
    "# @constraint(model, student4_taken[s in 1:S, t in 1:1], x[s, t] == student4[s, t])\n",
    "# @constraint(model, student5_taken[s in 1:S, t in 1:3], x[s, t] == student5[s, t])\n",
    "# @constraint(model, student6_taken[s in 1:S, t in 1:5], x[s, t] == student6[s, t])\n"
   ]
  },
  {
   "cell_type": "code",
   "execution_count": null,
   "metadata": {},
   "outputs": [],
   "source": [
    "#--- Write codes here to print your solutions\n",
    "optimize!(model)\n",
    "@show termination_status(model)\n",
    "@show objective_value(model)"
   ]
  },
  {
   "cell_type": "code",
   "execution_count": null,
   "metadata": {},
   "outputs": [],
   "source": [
    "display(\"text/csv\", value.(x)) # could also display JSON"
   ]
  },
  {
   "cell_type": "code",
   "execution_count": null,
   "metadata": {},
   "outputs": [],
   "source": [
    "using CSV; CSV.write(\"model_results/results_stud1.csv\", DataFrame(value.(x)))"
   ]
  },
  {
   "cell_type": "code",
   "execution_count": null,
   "metadata": {
    "scrolled": true
   },
   "outputs": [],
   "source": []
  },
  {
   "cell_type": "code",
   "execution_count": null,
   "metadata": {},
   "outputs": [],
   "source": []
  }
 ],
 "metadata": {
  "kernelspec": {
   "display_name": "Julia 1.5.3",
   "language": "julia",
   "name": "julia-1.5"
  },
  "language_info": {
   "file_extension": ".jl",
   "mimetype": "application/julia",
   "name": "julia",
   "version": "1.5.3"
  }
 },
 "nbformat": 4,
 "nbformat_minor": 5
}
