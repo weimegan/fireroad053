{
 "cells": [
  {
   "cell_type": "markdown",
   "id": "quarterly-kinase",
   "metadata": {},
   "source": [
    "# FireRoad053 Model"
   ]
  },
  {
   "cell_type": "code",
   "execution_count": null,
   "id": "exempt-pressing",
   "metadata": {},
   "outputs": [],
   "source": [
    "## if you have not installed package \"CSV\" or \"JSON\", please uncomment the line below and execute it\n",
    "# using Pkg; Pkg.add(\"CSV\")\n",
    "# import Pkg; Pkg.add(\"JSON\")\n",
    "# might need to read JSON too or I can convert to CSV\n",
    "\n",
    "using DataFrames, CSV\n",
    "using JSON\n",
    "gir = JSON.parsefile(\"data/parsedsp21_gir.json\")\n",
    "gir\n",
    "# portfolio = CSV.read(\"ClassAssignments.csv\", DataFrame) #change to CSV or JSON file"
   ]
  },
  {
   "cell_type": "markdown",
   "id": "gross-soundtrack",
   "metadata": {},
   "source": [
    "# Class Categories"
   ]
  },
  {
   "cell_type": "code",
   "execution_count": null,
   "id": "marine-peeing",
   "metadata": {},
   "outputs": [],
   "source": [
    "# GIR = \n",
    "# HASS = \n",
    "# Req = \n",
    "# ReqNot = "
   ]
  },
  {
   "cell_type": "markdown",
   "id": "express-coordinate",
   "metadata": {},
   "source": [
    "# Model, Objective Function"
   ]
  },
  {
   "cell_type": "code",
   "execution_count": null,
   "id": "heard-somalia",
   "metadata": {},
   "outputs": [],
   "source": [
    "#--- Model specification\n",
    "using JuMP, DataFrames, Gurobi\n",
    "\n",
    "model = Model(with_optimizer(Gurobi.Optimizer))\n",
    "\n",
    "# define x \n",
    "\n",
    "@objective(model, Min, sum(x[i,j] .* p[i,j] for i=1:40, j=1:2))"
   ]
  },
  {
   "cell_type": "markdown",
   "id": "worthy-solid",
   "metadata": {},
   "source": [
    "# Decision Variables"
   ]
  },
  {
   "cell_type": "code",
   "execution_count": null,
   "id": "substantial-search",
   "metadata": {},
   "outputs": [],
   "source": [
    "@variable(model, x[1:50, 1:10], Bin)"
   ]
  },
  {
   "cell_type": "markdown",
   "id": "mineral-childhood",
   "metadata": {},
   "source": [
    "# Constraints"
   ]
  },
  {
   "cell_type": "code",
   "execution_count": null,
   "id": "exclusive-condition",
   "metadata": {},
   "outputs": [],
   "source": [
    "# 1. Each student takes (or gets credit for) all of the Science/Math GIRs.\n",
    "for s in 1:4\n",
    "    @constraint(model, sum{x[s,t], t=1:8} == 1) \n",
    "end\n",
    "\n",
    "sum(x[s,t] for t in 1:8 for s in [\"3.091\", \"5.111\"]) == 1 \n",
    "sum(x[s,t] for t in 1:8 for s in [\"7.012\", \"7.013\", \"7.014\", \"7.015\", \"7.016\"]) == 1 \n",
    "\n",
    "    # list of classes not working? \"invalid index: \"8.01\" of type String\"\n",
    "\n",
    "# 2. Each student takes 8 HASS subjects.\n",
    "x[s,t] for s in HASS >= 8\n",
    "\n",
    "    # define table above for HASS\n",
    "\n",
    "\n",
    "# 3. Each student satisfies the requirements of her major (and minor).\n",
    "\n",
    "\n",
    "# 4. No subject is taken prior to its prerequisites.\n",
    "\n",
    "# 5. Each student takes 216 units beyond GIRs.\n",
    "\n",
    "# 6. No two subjects taken in Spring 2021 should overlap in time.\n",
    "\n",
    "# 7. Students cannot take the same subject twice.\n",
    "\n",
    "\n",
    "# 8. Each student can specify if they want to take a specific subject in the future.\n",
    "sum(x[s,t] for t in 1:8) >= 1 - M(1 - Req(s)) \n",
    "\n",
    "# 9. Each student can specify which semester they want to take a subject.\n",
    "x[s,t] <= 1 + M(1 - ReqNot(s,t))\n",
    "\n",
    "# 10. Each student can specify which semester they do not want to take a subject. \n",
    "\n",
    "# 11. The minimum and maximum number of units that each student wants to take each semester.\n",
    "\n",
    "# 12. The minimum and maximum workload (in number of hours) that each student wants to take on each semester.\n",
    "\n",
    "end"
   ]
  },
  {
   "cell_type": "code",
   "execution_count": null,
   "id": "infinite-surrey",
   "metadata": {},
   "outputs": [],
   "source": []
  },
  {
   "cell_type": "code",
   "execution_count": null,
   "id": "rural-catering",
   "metadata": {},
   "outputs": [],
   "source": [
    "#--- Write codes here to print your solutions\n",
    "optimize!(model)\n",
    "@show termination_status(model)\n",
    "@show objective_value(model)\n"
   ]
  },
  {
   "cell_type": "code",
   "execution_count": null,
   "id": "proof-wings",
   "metadata": {},
   "outputs": [],
   "source": [
    "display(\"text/csv\", value.(x)) # could also display JSON"
   ]
  }
 ],
 "metadata": {
  "kernelspec": {
   "display_name": "Julia 1.5.3",
   "language": "julia",
   "name": "julia-1.5"
  },
  "language_info": {
   "file_extension": ".jl",
   "mimetype": "application/julia",
   "name": "julia",
   "version": "1.5.3"
  }
 },
 "nbformat": 4,
 "nbformat_minor": 5
}
